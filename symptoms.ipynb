{
 "cells": [
  {
   "cell_type": "code",
   "execution_count": 81,
   "metadata": {
    "collapsed": false
   },
   "outputs": [],
   "source": [
    "import io\n",
    "import functools\n",
    "import itertools\n",
    "import gzip\n",
    "\n",
    "import pandas\n",
    "\n",
    "import eutility"
   ]
  },
  {
   "cell_type": "code",
   "execution_count": 5,
   "metadata": {
    "collapsed": false
   },
   "outputs": [
    {
     "data": {
      "text/html": [
       "<div style=\"max-height:1000px;max-width:1500px;overflow:auto;\">\n",
       "<table border=\"1\" class=\"dataframe\">\n",
       "  <thead>\n",
       "    <tr style=\"text-align: right;\">\n",
       "      <th></th>\n",
       "      <th>doid_code</th>\n",
       "      <th>doid_name</th>\n",
       "      <th>mesh_id</th>\n",
       "      <th>mesh_name</th>\n",
       "    </tr>\n",
       "  </thead>\n",
       "  <tbody>\n",
       "    <tr>\n",
       "      <th>0</th>\n",
       "      <td>DOID:2531</td>\n",
       "      <td>hematologic cancer</td>\n",
       "      <td>D019337</td>\n",
       "      <td>Hematologic Neoplasms</td>\n",
       "    </tr>\n",
       "    <tr>\n",
       "      <th>1</th>\n",
       "      <td>DOID:1319</td>\n",
       "      <td>brain cancer</td>\n",
       "      <td>D001932</td>\n",
       "      <td>Brain Neoplasms</td>\n",
       "    </tr>\n",
       "    <tr>\n",
       "      <th>2</th>\n",
       "      <td>DOID:263</td>\n",
       "      <td>kidney cancer</td>\n",
       "      <td>D007680</td>\n",
       "      <td>Kidney Neoplasms</td>\n",
       "    </tr>\n",
       "    <tr>\n",
       "      <th>3</th>\n",
       "      <td>DOID:1793</td>\n",
       "      <td>pancreatic cancer</td>\n",
       "      <td>D010190</td>\n",
       "      <td>Pancreatic Neoplasms</td>\n",
       "    </tr>\n",
       "    <tr>\n",
       "      <th>4</th>\n",
       "      <td>DOID:4159</td>\n",
       "      <td>skin cancer</td>\n",
       "      <td>D012878</td>\n",
       "      <td>Skin Neoplasms</td>\n",
       "    </tr>\n",
       "  </tbody>\n",
       "</table>\n",
       "</div>"
      ],
      "text/plain": [
       "   doid_code           doid_name  mesh_id              mesh_name\n",
       "0  DOID:2531  hematologic cancer  D019337  Hematologic Neoplasms\n",
       "1  DOID:1319        brain cancer  D001932        Brain Neoplasms\n",
       "2   DOID:263       kidney cancer  D007680       Kidney Neoplasms\n",
       "3  DOID:1793   pancreatic cancer  D010190   Pancreatic Neoplasms\n",
       "4  DOID:4159         skin cancer  D012878         Skin Neoplasms"
      ]
     },
     "execution_count": 5,
     "metadata": {},
     "output_type": "execute_result"
    }
   ],
   "source": [
    "# Read MeSH terms to MeSH names\n",
    "url = 'https://raw.githubusercontent.com/dhimmel/mesh/e561301360e6de2140dedeaa7c7e17ce4714eb7f/data/terms.tsv'\n",
    "mesh_df = pandas.read_table(url)\n",
    "\n",
    "# Read MeSH terms mapped to DO Slim terms\n",
    "url = 'https://raw.githubusercontent.com/dhimmel/disease-ontology/9fd75f14b17e01bebc97faf1bfa1b9025e9ce4de/data/xrefs-slim.tsv'\n",
    "doslim_xref_df = pandas.read_table(url)\n",
    "doslim_xref_df = doslim_xref_df[doslim_xref_df.resource == 'MSH'][['doid_code', 'doid_name', 'resource_id']].rename(columns={'resource_id': 'mesh_id'})\n",
    "disease_df = doslim_xref_df.merge(mesh_df)\n",
    "disease_df.to_csv('data/DO-slim-to-mesh.tsv', sep='\\t', index=False)\n",
    "disease_df.head()"
   ]
  },
  {
   "cell_type": "code",
   "execution_count": null,
   "metadata": {
    "collapsed": false
   },
   "outputs": [],
   "source": [
    "# Diseases"
   ]
  },
  {
   "cell_type": "code",
   "execution_count": 17,
   "metadata": {
    "collapsed": false,
    "scrolled": true
   },
   "outputs": [
    {
     "name": "stdout",
     "output_type": "stream",
     "text": [
      "7199 articles for Hematologic Neoplasms\n",
      "98466 articles for Brain Neoplasms\n",
      "48992 articles for Kidney Neoplasms\n",
      "45514 articles for Pancreatic Neoplasms\n",
      "84775 articles for Skin Neoplasms\n",
      "82806 articles for Bone Neoplasms\n",
      "53364 articles for Ovarian Neoplasms\n",
      "186097 articles for Breast Neoplasms\n",
      "48742 articles for Glioma\n",
      "88124 articles for Uterine Neoplasms\n",
      "18380 articles for Adrenal Gland Neoplasms\n",
      "32981 articles for Esophageal Neoplasms\n",
      "12012 articles for Salivary Gland Neoplasms\n",
      "81939 articles for Prostatic Neoplasms\n",
      "63628 articles for Stomach Neoplasms\n",
      "37204 articles for Urinary Bladder Neoplasms\n",
      "14652 articles for Peripheral Nervous System Neoplasms\n",
      "96253 articles for Liver Neoplasms\n",
      "3491 articles for Vaginal Neoplasms\n",
      "207632 articles for Head and Neck Neoplasms\n",
      "32426 articles for Rectal Neoplasms\n",
      "28522 articles for Eye Neoplasms\n",
      "50324 articles for Colonic Neoplasms\n",
      "19300 articles for Laryngeal Neoplasms\n",
      "222943 articles for Neoplasms, Germ Cell and Embryonal\n",
      "7270 articles for Thymus Neoplasms\n",
      "8485 articles for Myosarcoma\n",
      "1981 articles for Appendiceal Neoplasms\n",
      "3430 articles for Ureteral Neoplasms\n",
      "5828 articles for Vulvar Neoplasms\n",
      "1636 articles for Jejunal Neoplasms\n",
      "2432 articles for Vascular Neoplasms\n",
      "9690 articles for Mesothelioma\n",
      "59405 articles for Melanoma\n",
      "2017 articles for Fallopian Tube Neoplasms\n",
      "18355 articles for Testicular Neoplasms\n",
      "5867 articles for Gallbladder Neoplasms\n",
      "15100 articles for Meningeal Neoplasms\n",
      "10948 articles for Bile Duct Neoplasms\n",
      "9539 articles for Mediastinal Neoplasms\n",
      "7679 articles for Spinal Cord Neoplasms\n",
      "6221 articles for Retroperitoneal Neoplasms\n",
      "24654 articles for Crohn Disease\n",
      "38980 articles for Multiple Sclerosis\n",
      "71135 articles for Diabetes Mellitus, Type 2\n",
      "21812 articles for Colitis, Ulcerative\n",
      "50368 articles for Diabetes Mellitus, Type 1\n",
      "75897 articles for Arthritis, Rheumatoid\n",
      "32486 articles for Coronary Artery Disease\n",
      "143223 articles for Coronary Disease\n",
      "293061 articles for Myocardial Ischemia\n",
      "103287 articles for Obesity\n",
      "13615 articles for Celiac Disease\n",
      "39378 articles for Lupus Erythematosus, Systemic\n",
      "19549 articles for Refractive Errors\n",
      "5256 articles for Liver Cirrhosis, Biliary\n",
      "3445 articles for Vitiligo\n",
      "13218 articles for Macular Degeneration\n",
      "15999 articles for Metabolic Syndrome X\n",
      "87932 articles for Asthma\n",
      "68694 articles for Schizophrenia\n",
      "17883 articles for Migraine Disorders\n",
      "54563 articles for Alzheimer Disease\n",
      "10904 articles for Graves Disease\n",
      "39786 articles for Parkinson Disease\n",
      "11640 articles for Dermatitis, Atopic\n",
      "24216 articles for Bipolar Disorder\n",
      "9297 articles for Spondylitis, Ankylosing\n",
      "8748 articles for Polycystic Ovary Syndrome\n",
      "154312 articles for Hypertension\n",
      "13910 articles for Scleroderma, Systemic\n",
      "6705 articles for Behcet Syndrome\n",
      "3802 articles for Osteitis Deformans\n",
      "18506 articles for Leprosy\n",
      "18546 articles for Intracranial Aneurysm\n",
      "35084 articles for Glaucoma\n",
      "11318 articles for Amyotrophic Lateral Sclerosis\n",
      "2261 articles for Restless Legs Syndrome\n",
      "4264 articles for Mucocutaneous Lymph Node Syndrome\n",
      "17451 articles for Atherosclerosis\n",
      "2110 articles for Alopecia Areata\n",
      "32190 articles for Osteoporosis\n",
      "20180 articles for Hypothyroidism\n",
      "4156 articles for Glomerulonephritis, IGA\n",
      "4443 articles for Creutzfeldt-Jakob Syndrome\n",
      "841 articles for Azoospermia\n",
      "102081 articles for Epilepsy\n",
      "36282 articles for Hepatitis B\n",
      "30074 articles for Pulmonary Disease, Chronic Obstructive\n",
      "12701 articles for Aortic Aneurysm, Abdominal\n",
      "54351 articles for Kidney Failure, Chronic\n",
      "2930 articles for Arthritis, Psoriatic\n",
      "1895 articles for Glomerulonephritis, Membranous\n",
      "5868 articles for Diabetes, Gestational\n",
      "43052 articles for Malaria\n",
      "13789 articles for Autistic Disorder\n",
      "9994 articles for Cardiomyopathy, Dilated\n",
      "716 articles for Arthritis, Gouty\n",
      "14214 articles for Leiomyoma\n",
      "2271 articles for Cholangitis, Sclerosing\n",
      "2353 articles for Narcolepsy\n",
      "9434 articles for Cleft Lip\n",
      "1223 articles for Idiopathic Pulmonary Fibrosis\n",
      "16577 articles for Attention Deficit Disorder with Hyperactivity\n",
      "3113 articles for Tourette Syndrome\n",
      "7767 articles for Aortic Aneurysm, Thoracic\n",
      "62986 articles for Depressive Disorder\n",
      "34975 articles for Pancreatitis\n",
      "12096 articles for Nephrolithiasis\n",
      "16153 articles for Periodontitis\n",
      "5172 articles for Barrett Esophagus\n",
      "535 articles for Fuchs' Endothelial Dystrophy\n",
      "3861 articles for Otosclerosis\n",
      "1469 articles for Conduct Disorder\n",
      "2932 articles for Glomerulosclerosis, Focal Segmental\n",
      "25723 articles for Dental Caries\n",
      "104377 articles for Anemia\n",
      "4587 articles for Panic Disorder\n",
      "58288 articles for Acquired Immunodeficiency Syndrome\n"
     ]
    }
   ],
   "source": [
    "rows_out = list()\n",
    "\n",
    "for i, row in disease_df.iterrows():\n",
    "    term_query = '{disease}[MeSH Major Topic]'.format(disease = row.mesh_name.lower())\n",
    "    payload = {'db': 'pubmed', 'term': term_query}\n",
    "    pmids = eutility.esearch_query(payload, retmax = 10000)\n",
    "    row['term_query'] = term_query\n",
    "    row['n_articles'] = len(pmids)\n",
    "    row['pubmed_ids'] = '|'.join(pmids)\n",
    "    rows_out.append(row)\n",
    "    print('{} articles for {}'.format(len(pmids), row.mesh_name))\n",
    "\n",
    "disease_pmids_df = pandas.DataFrame(rows_out)"
   ]
  },
  {
   "cell_type": "code",
   "execution_count": 25,
   "metadata": {
    "collapsed": false
   },
   "outputs": [],
   "source": [
    "with gzip.open('data/disease-pmids.tsv.gz', 'w') as write_file:\n",
    "    write_file = io.TextIOWrapper(write_file)\n",
    "    disease_pmids_df.to_csv(write_file, sep='\\t', index=False)"
   ]
  },
  {
   "cell_type": "code",
   "execution_count": 23,
   "metadata": {
    "collapsed": false
   },
   "outputs": [],
   "source": [
    "# Symptoms"
   ]
  },
  {
   "cell_type": "code",
   "execution_count": 24,
   "metadata": {
    "collapsed": false
   },
   "outputs": [
    {
     "data": {
      "text/html": [
       "<div style=\"max-height:1000px;max-width:1500px;overflow:auto;\">\n",
       "<table border=\"1\" class=\"dataframe\">\n",
       "  <thead>\n",
       "    <tr style=\"text-align: right;\">\n",
       "      <th></th>\n",
       "      <th>mesh_id</th>\n",
       "      <th>mesh_name</th>\n",
       "      <th>in_hsdn</th>\n",
       "    </tr>\n",
       "  </thead>\n",
       "  <tbody>\n",
       "    <tr>\n",
       "      <th>0</th>\n",
       "      <td>D000006</td>\n",
       "      <td>Abdomen, Acute</td>\n",
       "      <td>1</td>\n",
       "    </tr>\n",
       "    <tr>\n",
       "      <th>1</th>\n",
       "      <td>D000270</td>\n",
       "      <td>Adie Syndrome</td>\n",
       "      <td>0</td>\n",
       "    </tr>\n",
       "    <tr>\n",
       "      <th>2</th>\n",
       "      <td>D000326</td>\n",
       "      <td>Adrenoleukodystrophy</td>\n",
       "      <td>0</td>\n",
       "    </tr>\n",
       "    <tr>\n",
       "      <th>3</th>\n",
       "      <td>D000334</td>\n",
       "      <td>Aerophagy</td>\n",
       "      <td>1</td>\n",
       "    </tr>\n",
       "    <tr>\n",
       "      <th>4</th>\n",
       "      <td>D000370</td>\n",
       "      <td>Ageusia</td>\n",
       "      <td>1</td>\n",
       "    </tr>\n",
       "  </tbody>\n",
       "</table>\n",
       "</div>"
      ],
      "text/plain": [
       "   mesh_id             mesh_name  in_hsdn\n",
       "0  D000006        Abdomen, Acute        1\n",
       "1  D000270         Adie Syndrome        0\n",
       "2  D000326  Adrenoleukodystrophy        0\n",
       "3  D000334             Aerophagy        1\n",
       "4  D000370               Ageusia        1"
      ]
     },
     "execution_count": 24,
     "metadata": {},
     "output_type": "execute_result"
    }
   ],
   "source": [
    "# Read MeSH Symptoms\n",
    "url = 'https://raw.githubusercontent.com/dhimmel/mesh/e561301360e6de2140dedeaa7c7e17ce4714eb7f/data/symptoms.tsv'\n",
    "symptom_df = pandas.read_table(url)\n",
    "symptom_df.head()"
   ]
  },
  {
   "cell_type": "code",
   "execution_count": null,
   "metadata": {
    "collapsed": false
   },
   "outputs": [],
   "source": [
    "rows_out = list()\n",
    "\n",
    "for i, row in symptom_df.iterrows():\n",
    "    term_query = '{symptom}[MeSH Terms:noexp]'.format(symptom = row.mesh_name.lower())\n",
    "    payload = {'db': 'pubmed', 'term': term_query}\n",
    "    pmids = eutility.esearch_query(payload, retmax = 5000, sleep=2)\n",
    "    row['term_query'] = term_query\n",
    "    row['n_articles'] = len(pmids)\n",
    "    row['pubmed_ids'] = '|'.join(pmids)\n",
    "    rows_out.append(row)\n",
    "    print('{} articles for {}'.format(len(pmids), row.mesh_name))"
   ]
  },
  {
   "cell_type": "code",
   "execution_count": 41,
   "metadata": {
    "collapsed": false
   },
   "outputs": [
    {
     "data": {
      "text/html": [
       "<div style=\"max-height:1000px;max-width:1500px;overflow:auto;\">\n",
       "<table border=\"1\" class=\"dataframe\">\n",
       "  <thead>\n",
       "    <tr style=\"text-align: right;\">\n",
       "      <th></th>\n",
       "      <th>mesh_id</th>\n",
       "      <th>mesh_name</th>\n",
       "      <th>in_hsdn</th>\n",
       "      <th>term_query</th>\n",
       "      <th>n_articles</th>\n",
       "      <th>pubmed_ids</th>\n",
       "    </tr>\n",
       "  </thead>\n",
       "  <tbody>\n",
       "    <tr>\n",
       "      <th>0</th>\n",
       "      <td>D000006</td>\n",
       "      <td>Abdomen, Acute</td>\n",
       "      <td>1</td>\n",
       "      <td>abdomen, acute[MeSH Terms:noexp]</td>\n",
       "      <td>8465</td>\n",
       "      <td>25669229|25650451|25619050|25608417|25543890|2...</td>\n",
       "    </tr>\n",
       "    <tr>\n",
       "      <th>1</th>\n",
       "      <td>D000270</td>\n",
       "      <td>Adie Syndrome</td>\n",
       "      <td>0</td>\n",
       "      <td>adie syndrome[MeSH Terms:noexp]</td>\n",
       "      <td>311</td>\n",
       "      <td>24995781|24625775|24215593|23952008|23809464|2...</td>\n",
       "    </tr>\n",
       "    <tr>\n",
       "      <th>2</th>\n",
       "      <td>D000326</td>\n",
       "      <td>Adrenoleukodystrophy</td>\n",
       "      <td>0</td>\n",
       "      <td>adrenoleukodystrophy[MeSH Terms:noexp]</td>\n",
       "      <td>1506</td>\n",
       "      <td>25583825|25378668|25297370|25275259|25149411|2...</td>\n",
       "    </tr>\n",
       "    <tr>\n",
       "      <th>3</th>\n",
       "      <td>D000334</td>\n",
       "      <td>Aerophagy</td>\n",
       "      <td>1</td>\n",
       "      <td>aerophagy[MeSH Terms:noexp]</td>\n",
       "      <td>260</td>\n",
       "      <td>25073665|24796405|23772202|23772201|23636521|2...</td>\n",
       "    </tr>\n",
       "    <tr>\n",
       "      <th>4</th>\n",
       "      <td>D000370</td>\n",
       "      <td>Ageusia</td>\n",
       "      <td>1</td>\n",
       "      <td>ageusia[MeSH Terms:noexp]</td>\n",
       "      <td>220</td>\n",
       "      <td>24825557|24782205|24191925|24137848|24088167|2...</td>\n",
       "    </tr>\n",
       "  </tbody>\n",
       "</table>\n",
       "</div>"
      ],
      "text/plain": [
       "   mesh_id             mesh_name  in_hsdn  \\\n",
       "0  D000006        Abdomen, Acute        1   \n",
       "1  D000270         Adie Syndrome        0   \n",
       "2  D000326  Adrenoleukodystrophy        0   \n",
       "3  D000334             Aerophagy        1   \n",
       "4  D000370               Ageusia        1   \n",
       "\n",
       "                               term_query  n_articles  \\\n",
       "0        abdomen, acute[MeSH Terms:noexp]        8465   \n",
       "1         adie syndrome[MeSH Terms:noexp]         311   \n",
       "2  adrenoleukodystrophy[MeSH Terms:noexp]        1506   \n",
       "3             aerophagy[MeSH Terms:noexp]         260   \n",
       "4               ageusia[MeSH Terms:noexp]         220   \n",
       "\n",
       "                                          pubmed_ids  \n",
       "0  25669229|25650451|25619050|25608417|25543890|2...  \n",
       "1  24995781|24625775|24215593|23952008|23809464|2...  \n",
       "2  25583825|25378668|25297370|25275259|25149411|2...  \n",
       "3  25073665|24796405|23772202|23772201|23636521|2...  \n",
       "4  24825557|24782205|24191925|24137848|24088167|2...  "
      ]
     },
     "execution_count": 41,
     "metadata": {},
     "output_type": "execute_result"
    }
   ],
   "source": [
    "symptom_pmids_df = pandas.DataFrame(rows_out)\n",
    "\n",
    "with gzip.open('data/symptom-pmids.tsv.gz', 'w') as write_file:\n",
    "    write_file = io.TextIOWrapper(write_file)\n",
    "    symptom_pmids_df.to_csv(write_file, sep='\\t', index=False)\n",
    "\n",
    "symptom_pmids_df.head()"
   ]
  },
  {
   "cell_type": "code",
   "execution_count": null,
   "metadata": {
    "collapsed": false
   },
   "outputs": [],
   "source": []
  },
  {
   "cell_type": "code",
   "execution_count": 130,
   "metadata": {
    "collapsed": false
   },
   "outputs": [],
   "source": [
    "def read_pmids_tsv(path, key, min_articles = 5):\n",
    "    term_to_pmids = dict()\n",
    "    pmids_df = pandas.read_table(path, compression='gzip')\n",
    "    pmids_df = pmids_df[pmids_df.n_articles >= min_articles]\n",
    "    for i, row in pmids_df.iterrows():\n",
    "        term = row[key]\n",
    "        pmids = row.pubmed_ids.split('|')\n",
    "        term_to_pmids[term] = set(pmids)\n",
    "    pmids_df.drop('pubmed_ids', axis=1, inplace=True)\n",
    "    return pmids_df, term_to_pmids"
   ]
  },
  {
   "cell_type": "code",
   "execution_count": 131,
   "metadata": {
    "collapsed": false
   },
   "outputs": [],
   "source": [
    "symptom_df, symptom_to_pmids = read_pmids_tsv('data/symptom-pmids.tsv.gz', key='mesh_id')\n",
    "disease_df, disease_to_pmids = read_pmids_tsv('data/disease-pmids.tsv.gz', key='doid_code')"
   ]
  },
  {
   "cell_type": "code",
   "execution_count": 79,
   "metadata": {
    "collapsed": false
   },
   "outputs": [
    {
     "data": {
      "text/plain": [
       "1741776"
      ]
     },
     "execution_count": 79,
     "metadata": {},
     "output_type": "execute_result"
    }
   ],
   "source": [
    "symptom_pmids = set.union(*symptom_to_pmids.values())\n",
    "len(symptom_pmids)"
   ]
  },
  {
   "cell_type": "code",
   "execution_count": 80,
   "metadata": {
    "collapsed": false
   },
   "outputs": [
    {
     "data": {
      "text/plain": [
       "3413567"
      ]
     },
     "execution_count": 80,
     "metadata": {},
     "output_type": "execute_result"
    }
   ],
   "source": [
    "disease_pmids = set.union(*disease_to_pmids.values())\n",
    "len(disease_pmids)"
   ]
  },
  {
   "cell_type": "code",
   "execution_count": 138,
   "metadata": {
    "collapsed": true
   },
   "outputs": [],
   "source": [
    "def score_pmid_cooccurrence(term0_to_pmids, term1_to_pmids, term0_name='term_0', term1_name='term_1'):\n",
    "    all_pmids0 = set.union(*term0_to_pmids.values())\n",
    "    all_pmids1 = set.union(*term1_to_pmids.values())\n",
    "    pmids_in_both = all_pmids0 & all_pmids1\n",
    "    total_pmids = len(pmids_in_both)\n",
    "    \n",
    "    term0_to_pmids = term0_to_pmids.copy()\n",
    "    term1_to_pmids = term1_to_pmids.copy()\n",
    "    for d in term0_to_pmids, term1_to_pmids:\n",
    "        for key, value in list(d.items()):\n",
    "            d[key] = value & pmids_in_both\n",
    "            if not d[key]:\n",
    "                del d[key]\n",
    "    \n",
    "    rows = list()\n",
    "    for term0, term1 in itertools.product(term0_to_pmids, term1_to_pmids):\n",
    "        pmids0 = term0_to_pmids[term0]\n",
    "        pmids1 = term1_to_pmids[term1]\n",
    "        count = len(pmids0 & pmids1)\n",
    "        expected = len(pmids0) * len(pmids1) / total_pmids\n",
    "        enrichment = count / expected\n",
    "        contingency_table = [[count, total_pmids - count], [expected, total_pmids - expected]]\n",
    "        oddsratio, pvalue = scipy.stats.fisher_exact(contingency_table, alternative='greater')\n",
    "        rows.append([term0, term1, count, expected, enrichment, oddsratio, pvalue])\n",
    "    columns = [term0_name, term1_name, 'cooccurrence', 'expected', 'enrichment', 'odds_ratio', 'p_fisher']\n",
    "    df = pandas.DataFrame(rows, columns=columns)\n",
    "    return df"
   ]
  },
  {
   "cell_type": "code",
   "execution_count": 141,
   "metadata": {
    "collapsed": false
   },
   "outputs": [
    {
     "data": {
      "text/html": [
       "<div style=\"max-height:1000px;max-width:1500px;overflow:auto;\">\n",
       "<table border=\"1\" class=\"dataframe\">\n",
       "  <thead>\n",
       "    <tr style=\"text-align: right;\">\n",
       "      <th></th>\n",
       "      <th>doid_code</th>\n",
       "      <th>doid_name</th>\n",
       "      <th>mesh_id</th>\n",
       "      <th>mesh_name</th>\n",
       "      <th>cooccurrence</th>\n",
       "      <th>expected</th>\n",
       "      <th>enrichment</th>\n",
       "      <th>odds_ratio</th>\n",
       "      <th>p_fisher</th>\n",
       "    </tr>\n",
       "  </thead>\n",
       "  <tbody>\n",
       "    <tr>\n",
       "      <th>26450</th>\n",
       "      <td>DOID:10652</td>\n",
       "      <td>Alzheimer's disease</td>\n",
       "      <td>D008569</td>\n",
       "      <td>Memory Disorders</td>\n",
       "      <td>1564</td>\n",
       "      <td>67.100289</td>\n",
       "      <td>23.308394</td>\n",
       "      <td>23.432635</td>\n",
       "      <td>0.000000e+00</td>\n",
       "    </tr>\n",
       "    <tr>\n",
       "      <th>26360</th>\n",
       "      <td>DOID:10652</td>\n",
       "      <td>Alzheimer's disease</td>\n",
       "      <td>D004314</td>\n",
       "      <td>Down Syndrome</td>\n",
       "      <td>800</td>\n",
       "      <td>32.051845</td>\n",
       "      <td>24.959561</td>\n",
       "      <td>25.048966</td>\n",
       "      <td>1.443810e-193</td>\n",
       "    </tr>\n",
       "    <tr>\n",
       "      <th>26494</th>\n",
       "      <td>DOID:10652</td>\n",
       "      <td>Alzheimer's disease</td>\n",
       "      <td>D011595</td>\n",
       "      <td>Psychomotor Agitation</td>\n",
       "      <td>331</td>\n",
       "      <td>13.675650</td>\n",
       "      <td>24.203603</td>\n",
       "      <td>25.482125</td>\n",
       "      <td>3.284937e-81</td>\n",
       "    </tr>\n",
       "    <tr>\n",
       "      <th>26299</th>\n",
       "      <td>DOID:10652</td>\n",
       "      <td>Alzheimer's disease</td>\n",
       "      <td>D000647</td>\n",
       "      <td>Amnesia</td>\n",
       "      <td>303</td>\n",
       "      <td>12.059837</td>\n",
       "      <td>25.124717</td>\n",
       "      <td>25.268675</td>\n",
       "      <td>2.382544e-74</td>\n",
       "    </tr>\n",
       "    <tr>\n",
       "      <th>26423</th>\n",
       "      <td>DOID:10652</td>\n",
       "      <td>Alzheimer's disease</td>\n",
       "      <td>D006816</td>\n",
       "      <td>Huntington Disease</td>\n",
       "      <td>251</td>\n",
       "      <td>10.884701</td>\n",
       "      <td>23.059889</td>\n",
       "      <td>25.115362</td>\n",
       "      <td>9.196812e-62</td>\n",
       "    </tr>\n",
       "  </tbody>\n",
       "</table>\n",
       "</div>"
      ],
      "text/plain": [
       "        doid_code            doid_name  mesh_id              mesh_name  \\\n",
       "26450  DOID:10652  Alzheimer's disease  D008569       Memory Disorders   \n",
       "26360  DOID:10652  Alzheimer's disease  D004314          Down Syndrome   \n",
       "26494  DOID:10652  Alzheimer's disease  D011595  Psychomotor Agitation   \n",
       "26299  DOID:10652  Alzheimer's disease  D000647                Amnesia   \n",
       "26423  DOID:10652  Alzheimer's disease  D006816     Huntington Disease   \n",
       "\n",
       "       cooccurrence   expected  enrichment  odds_ratio       p_fisher  \n",
       "26450          1564  67.100289   23.308394   23.432635   0.000000e+00  \n",
       "26360           800  32.051845   24.959561   25.048966  1.443810e-193  \n",
       "26494           331  13.675650   24.203603   25.482125   3.284937e-81  \n",
       "26299           303  12.059837   25.124717   25.268675   2.382544e-74  \n",
       "26423           251  10.884701   23.059889   25.115362   9.196812e-62  "
      ]
     },
     "execution_count": 141,
     "metadata": {},
     "output_type": "execute_result"
    }
   ],
   "source": [
    "cooc_df = score_pmid_cooccurrence(disease_to_pmids, symptom_to_pmids, 'doid_code', 'mesh_id')\n",
    "cooc_df = symptom_df[['mesh_id', 'mesh_name']].merge(cooc_df)\n",
    "cooc_df = disease_df[['doid_code', 'doid_name']].merge(cooc_df)\n",
    "cooc_df = cooc_df.sort(['doid_name', 'p_fisher'])\n",
    "cooc_df.to_csv('data/disease-symptom-cooccurrence.tsv', index=False, sep='\\t')\n",
    "cooc_df.head()"
   ]
  },
  {
   "cell_type": "code",
   "execution_count": null,
   "metadata": {
    "collapsed": false
   },
   "outputs": [],
   "source": []
  },
  {
   "cell_type": "code",
   "execution_count": 111,
   "metadata": {
    "collapsed": false
   },
   "outputs": [],
   "source": [
    "import numpy\n",
    "import scipy\n",
    "import seaborn\n",
    "import matplotlib.pyplot as plt\n",
    "\n",
    "%matplotlib inline"
   ]
  },
  {
   "cell_type": "code",
   "execution_count": 129,
   "metadata": {
    "collapsed": false
   },
   "outputs": [
    {
     "data": {
      "image/png": "[encoded data removed]",
      "text/plain": [
       "<matplotlib.figure.Figure at 0x7fc9ec669fd0>"
      ]
     },
     "metadata": {},
     "output_type": "display_data"
    }
   ],
   "source": [
    "sig_df = cooc_df[cooc_df.p_fisher < 0.05]\n",
    "plt.hist(list(numpy.log(sig_df.enrichment)), bins = 50);"
   ]
  },
  {
   "cell_type": "code",
   "execution_count": null,
   "metadata": {
    "collapsed": false
   },
   "outputs": [],
   "source": []
  },
  {
   "cell_type": "code",
   "execution_count": null,
   "metadata": {
    "collapsed": false
   },
   "outputs": [],
   "source": []
  },
  {
   "cell_type": "code",
   "execution_count": null,
   "metadata": {
    "collapsed": false
   },
   "outputs": [],
   "source": []
  },
  {
   "cell_type": "code",
   "execution_count": null,
   "metadata": {
    "collapsed": true
   },
   "outputs": [],
   "source": []
  }
 ],
 "metadata": {
  "kernelspec": {
   "display_name": "Python 3",
   "language": "python",
   "name": "python3"
  },
  "language_info": {
   "codemirror_mode": {
    "name": "ipython",
    "version": 3
   },
   "file_extension": ".py",
   "mimetype": "text/x-python",
   "name": "python",
   "nbconvert_exporter": "python",
   "pygments_lexer": "ipython3",
   "version": "3.4.0"
  }
 },
 "nbformat": 4,
 "nbformat_minor": 0
}
