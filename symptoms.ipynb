{
 "cells": [
  {
   "cell_type": "code",
   "execution_count": 1,
   "metadata": {
    "collapsed": false
   },
   "outputs": [],
   "source": [
    "import io\n",
    "import gzip\n",
    "\n",
    "import pandas\n",
    "import requests\n",
    "import networkx\n",
    "\n",
    "import eutility\n",
    "import cooccurrence"
   ]
  },
  {
   "cell_type": "code",
   "execution_count": 3,
   "metadata": {
    "collapsed": false
   },
   "outputs": [
    {
     "data": {
      "text/plain": [
       "135"
      ]
     },
     "execution_count": 3,
     "metadata": {},
     "output_type": "execute_result"
    }
   ],
   "source": [
    "# Read MeSH terms to MeSH names\n",
    "url = 'https://raw.githubusercontent.com/dhimmel/mesh/e561301360e6de2140dedeaa7c7e17ce4714eb7f/data/terms.tsv'\n",
    "mesh_df = pandas.read_table(url)\n",
    "\n",
    "# Read MeSH terms mapped to DO Slim terms\n",
    "url = 'https://raw.githubusercontent.com/dhimmel/disease-ontology/72614ade9f1cc5a5317b8f6836e1e464b31d5587/data/xrefs-slim.tsv'\n",
    "doslim_xref_df = pandas.read_table(url)\n",
    "doslim_xref_df = doslim_xref_df[doslim_xref_df.resource == 'MSH'][['doid_code', 'doid_name', 'resource_id']].rename(columns={'resource_id': 'mesh_id'})\n",
    "disease_df = doslim_xref_df.merge(mesh_df)\n",
    "disease_df.to_csv('data/DO-slim-to-mesh.tsv', sep='\\t', index=False)\n",
    "len(disease_df)"
   ]
  },
  {
   "cell_type": "markdown",
   "metadata": {
    "collapsed": false
   },
   "source": [
    "# Diseases"
   ]
  },
  {
   "cell_type": "code",
   "execution_count": 4,
   "metadata": {
    "collapsed": false,
    "scrolled": true
   },
   "outputs": [
    {
     "name": "stdout",
     "output_type": "stream",
     "text": [
      "7213 articles for Hematologic Neoplasms\n",
      "98558 articles for Brain Neoplasms\n",
      "137542 articles for Lung Neoplasms\n",
      "49057 articles for Kidney Neoplasms\n",
      "45600 articles for Pancreatic Neoplasms\n",
      "84831 articles for Skin Neoplasms\n",
      "82879 articles for Bone Neoplasms\n",
      "21863 articles for Pharyngeal Neoplasms\n",
      "53403 articles for Ovarian Neoplasms\n",
      "186325 articles for Breast Neoplasms\n",
      "48809 articles for Glioma\n",
      "88187 articles for Uterine Neoplasms\n",
      "18395 articles for Adrenal Gland Neoplasms\n",
      "33026 articles for Esophageal Neoplasms\n",
      "12025 articles for Salivary Gland Neoplasms\n",
      "82041 articles for Prostatic Neoplasms\n",
      "63673 articles for Stomach Neoplasms\n",
      "37244 articles for Urinary Bladder Neoplasms\n",
      "14661 articles for Peripheral Nervous System Neoplasms\n",
      "32853 articles for Thyroid Neoplasms\n",
      "96367 articles for Liver Neoplasms\n",
      "49717 articles for Uterine Cervical Neoplasms\n",
      "3492 articles for Vaginal Neoplasms\n",
      "207845 articles for Head and Neck Neoplasms\n",
      "32455 articles for Rectal Neoplasms\n",
      "28541 articles for Eye Neoplasms\n",
      "50361 articles for Colonic Neoplasms\n",
      "19305 articles for Laryngeal Neoplasms\n",
      "223120 articles for Neoplasms, Germ Cell and Embryonal\n",
      "7274 articles for Thymus Neoplasms\n",
      "8490 articles for Myosarcoma\n",
      "4342 articles for Duodenal Neoplasms\n",
      "2147 articles for Ileal Neoplasms\n",
      "89596 articles for Sarcoma\n",
      "1984 articles for Appendiceal Neoplasms\n",
      "3854 articles for Penile Neoplasms\n",
      "3432 articles for Ureteral Neoplasms\n",
      "2514 articles for Tracheal Neoplasms\n",
      "5829 articles for Vulvar Neoplasms\n",
      "1636 articles for Jejunal Neoplasms\n",
      "9733 articles for Peritoneal Neoplasms\n",
      "2437 articles for Vascular Neoplasms\n",
      "9700 articles for Mesothelioma\n",
      "59447 articles for Melanoma\n",
      "2018 articles for Fallopian Tube Neoplasms\n",
      "18367 articles for Testicular Neoplasms\n",
      "5872 articles for Gallbladder Neoplasms\n",
      "15110 articles for Meningeal Neoplasms\n",
      "10961 articles for Bile Duct Neoplasms\n",
      "9541 articles for Mediastinal Neoplasms\n",
      "7693 articles for Spinal Cord Neoplasms\n",
      "6224 articles for Retroperitoneal Neoplasms\n",
      "24687 articles for Crohn Disease\n",
      "39017 articles for Multiple Sclerosis\n",
      "71286 articles for Diabetes Mellitus, Type 2\n",
      "21833 articles for Colitis, Ulcerative\n",
      "50405 articles for Diabetes Mellitus, Type 1\n",
      "75972 articles for Arthritis, Rheumatoid\n",
      "32563 articles for Coronary Artery Disease\n",
      "143358 articles for Coronary Disease\n",
      "293328 articles for Myocardial Ischemia\n",
      "103441 articles for Obesity\n",
      "13619 articles for Celiac Disease\n",
      "39405 articles for Lupus Erythematosus, Systemic\n",
      "19571 articles for Refractive Errors\n",
      "5261 articles for Liver Cirrhosis, Biliary\n",
      "3448 articles for Vitiligo\n",
      "13232 articles for Macular Degeneration\n",
      "16029 articles for Metabolic Syndrome X\n",
      "87970 articles for Asthma\n",
      "24985 articles for Psoriasis\n",
      "68725 articles for Schizophrenia\n",
      "17897 articles for Migraine Disorders\n",
      "54613 articles for Alzheimer Disease\n",
      "10918 articles for Graves Disease\n",
      "39842 articles for Parkinson Disease\n",
      "11649 articles for Dermatitis, Atopic\n",
      "24237 articles for Bipolar Disorder\n",
      "9306 articles for Spondylitis, Ankylosing\n",
      "8762 articles for Polycystic Ovary Syndrome\n",
      "154478 articles for Hypertension\n",
      "13923 articles for Scleroderma, Systemic\n",
      "6711 articles for Behcet Syndrome\n",
      "3804 articles for Osteitis Deformans\n",
      "18506 articles for Leprosy\n",
      "18562 articles for Intracranial Aneurysm\n",
      "35107 articles for Glaucoma\n",
      "11330 articles for Amyotrophic Lateral Sclerosis\n",
      "2263 articles for Restless Legs Syndrome\n",
      "4271 articles for Mucocutaneous Lymph Node Syndrome\n",
      "17504 articles for Atherosclerosis\n",
      "2111 articles for Alopecia Areata\n",
      "32226 articles for Osteoporosis\n",
      "20187 articles for Hypothyroidism\n",
      "4163 articles for Glomerulonephritis, IGA\n",
      "49237 articles for Alcoholism\n",
      "4445 articles for Creutzfeldt-Jakob Syndrome\n",
      "842 articles for Azoospermia\n",
      "102134 articles for Epilepsy\n",
      "36304 articles for Hepatitis B\n",
      "30117 articles for Pulmonary Disease, Chronic Obstructive\n",
      "12709 articles for Aortic Aneurysm, Abdominal\n",
      "54376 articles for Kidney Failure, Chronic\n",
      "32784 articles for Osteoarthritis\n",
      "2935 articles for Arthritis, Psoriatic\n",
      "6253 articles for Tobacco Use Disorder\n",
      "1897 articles for Glomerulonephritis, Membranous\n",
      "5886 articles for Diabetes, Gestational\n",
      "43086 articles for Malaria\n",
      "13804 articles for Autistic Disorder\n",
      "10003 articles for Cardiomyopathy, Dilated\n",
      "717 articles for Arthritis, Gouty\n",
      "14223 articles for Leiomyoma\n",
      "2274 articles for Cholangitis, Sclerosing\n",
      "2357 articles for Narcolepsy\n",
      "1449 articles for Intervertebral Disc Degeneration\n",
      "9441 articles for Cleft Lip\n",
      "1226 articles for Idiopathic Pulmonary Fibrosis\n",
      "16613 articles for Attention Deficit Disorder with Hyperactivity\n",
      "3118 articles for Tourette Syndrome\n",
      "7770 articles for Aortic Aneurysm, Thoracic\n",
      "63035 articles for Depressive Disorder\n",
      "13751 articles for Rhinitis, Allergic\n",
      "34999 articles for Pancreatitis\n",
      "12098 articles for Nephrolithiasis\n",
      "16165 articles for Periodontitis\n",
      "5175 articles for Barrett Esophagus\n",
      "539 articles for Fuchs' Endothelial Dystrophy\n",
      "3862 articles for Otosclerosis\n",
      "1470 articles for Conduct Disorder\n",
      "2943 articles for Glomerulosclerosis, Focal Segmental\n",
      "25730 articles for Dental Caries\n",
      "104427 articles for Anemia\n",
      "4588 articles for Panic Disorder\n",
      "58290 articles for Acquired Immunodeficiency Syndrome\n"
     ]
    }
   ],
   "source": [
    "rows_out = list()\n",
    "\n",
    "for i, row in disease_df.iterrows():\n",
    "    term_query = '{disease}[MeSH Major Topic]'.format(disease = row.mesh_name.lower())\n",
    "    payload = {'db': 'pubmed', 'term': term_query}\n",
    "    pmids = eutility.esearch_query(payload, retmax = 10000)\n",
    "    row['term_query'] = term_query\n",
    "    row['n_articles'] = len(pmids)\n",
    "    row['pubmed_ids'] = '|'.join(pmids)\n",
    "    rows_out.append(row)\n",
    "    print('{} articles for {}'.format(len(pmids), row.mesh_name))\n",
    "\n",
    "disease_pmids_df = pandas.DataFrame(rows_out)"
   ]
  },
  {
   "cell_type": "code",
   "execution_count": 5,
   "metadata": {
    "collapsed": false
   },
   "outputs": [],
   "source": [
    "with gzip.open('data/disease-pmids.tsv.gz', 'w') as write_file:\n",
    "    write_file = io.TextIOWrapper(write_file)\n",
    "    disease_pmids_df.to_csv(write_file, sep='\\t', index=False)"
   ]
  },
  {
   "cell_type": "markdown",
   "metadata": {
    "collapsed": false
   },
   "source": [
    "# Symptoms"
   ]
  },
  {
   "cell_type": "code",
   "execution_count": 24,
   "metadata": {
    "collapsed": false
   },
   "outputs": [
    {
     "data": {
      "text/html": [
       "<div style=\"max-height:1000px;max-width:1500px;overflow:auto;\">\n",
       "<table border=\"1\" class=\"dataframe\">\n",
       "  <thead>\n",
       "    <tr style=\"text-align: right;\">\n",
       "      <th></th>\n",
       "      <th>mesh_id</th>\n",
       "      <th>mesh_name</th>\n",
       "      <th>in_hsdn</th>\n",
       "    </tr>\n",
       "  </thead>\n",
       "  <tbody>\n",
       "    <tr>\n",
       "      <th>0</th>\n",
       "      <td>D000006</td>\n",
       "      <td>Abdomen, Acute</td>\n",
       "      <td>1</td>\n",
       "    </tr>\n",
       "    <tr>\n",
       "      <th>1</th>\n",
       "      <td>D000270</td>\n",
       "      <td>Adie Syndrome</td>\n",
       "      <td>0</td>\n",
       "    </tr>\n",
       "    <tr>\n",
       "      <th>2</th>\n",
       "      <td>D000326</td>\n",
       "      <td>Adrenoleukodystrophy</td>\n",
       "      <td>0</td>\n",
       "    </tr>\n",
       "    <tr>\n",
       "      <th>3</th>\n",
       "      <td>D000334</td>\n",
       "      <td>Aerophagy</td>\n",
       "      <td>1</td>\n",
       "    </tr>\n",
       "    <tr>\n",
       "      <th>4</th>\n",
       "      <td>D000370</td>\n",
       "      <td>Ageusia</td>\n",
       "      <td>1</td>\n",
       "    </tr>\n",
       "  </tbody>\n",
       "</table>\n",
       "</div>"
      ],
      "text/plain": [
       "   mesh_id             mesh_name  in_hsdn\n",
       "0  D000006        Abdomen, Acute        1\n",
       "1  D000270         Adie Syndrome        0\n",
       "2  D000326  Adrenoleukodystrophy        0\n",
       "3  D000334             Aerophagy        1\n",
       "4  D000370               Ageusia        1"
      ]
     },
     "execution_count": 24,
     "metadata": {},
     "output_type": "execute_result"
    }
   ],
   "source": [
    "# Read MeSH Symptoms\n",
    "url = 'https://raw.githubusercontent.com/dhimmel/mesh/e561301360e6de2140dedeaa7c7e17ce4714eb7f/data/symptoms.tsv'\n",
    "symptom_df = pandas.read_table(url)\n",
    "symptom_df.head()"
   ]
  },
  {
   "cell_type": "code",
   "execution_count": null,
   "metadata": {
    "collapsed": false
   },
   "outputs": [],
   "source": [
    "rows_out = list()\n",
    "\n",
    "for i, row in symptom_df.iterrows():\n",
    "    term_query = '{symptom}[MeSH Terms:noexp]'.format(symptom = row.mesh_name.lower())\n",
    "    payload = {'db': 'pubmed', 'term': term_query}\n",
    "    pmids = eutility.esearch_query(payload, retmax = 5000, sleep=2)\n",
    "    row['term_query'] = term_query\n",
    "    row['n_articles'] = len(pmids)\n",
    "    row['pubmed_ids'] = '|'.join(pmids)\n",
    "    rows_out.append(row)\n",
    "    print('{} articles for {}'.format(len(pmids), row.mesh_name))"
   ]
  },
  {
   "cell_type": "code",
   "execution_count": 41,
   "metadata": {
    "collapsed": false
   },
   "outputs": [
    {
     "data": {
      "text/html": [
       "<div style=\"max-height:1000px;max-width:1500px;overflow:auto;\">\n",
       "<table border=\"1\" class=\"dataframe\">\n",
       "  <thead>\n",
       "    <tr style=\"text-align: right;\">\n",
       "      <th></th>\n",
       "      <th>mesh_id</th>\n",
       "      <th>mesh_name</th>\n",
       "      <th>in_hsdn</th>\n",
       "      <th>term_query</th>\n",
       "      <th>n_articles</th>\n",
       "      <th>pubmed_ids</th>\n",
       "    </tr>\n",
       "  </thead>\n",
       "  <tbody>\n",
       "    <tr>\n",
       "      <th>0</th>\n",
       "      <td>D000006</td>\n",
       "      <td>Abdomen, Acute</td>\n",
       "      <td>1</td>\n",
       "      <td>abdomen, acute[MeSH Terms:noexp]</td>\n",
       "      <td>8465</td>\n",
       "      <td>25669229|25650451|25619050|25608417|25543890|2...</td>\n",
       "    </tr>\n",
       "    <tr>\n",
       "      <th>1</th>\n",
       "      <td>D000270</td>\n",
       "      <td>Adie Syndrome</td>\n",
       "      <td>0</td>\n",
       "      <td>adie syndrome[MeSH Terms:noexp]</td>\n",
       "      <td>311</td>\n",
       "      <td>24995781|24625775|24215593|23952008|23809464|2...</td>\n",
       "    </tr>\n",
       "    <tr>\n",
       "      <th>2</th>\n",
       "      <td>D000326</td>\n",
       "      <td>Adrenoleukodystrophy</td>\n",
       "      <td>0</td>\n",
       "      <td>adrenoleukodystrophy[MeSH Terms:noexp]</td>\n",
       "      <td>1506</td>\n",
       "      <td>25583825|25378668|25297370|25275259|25149411|2...</td>\n",
       "    </tr>\n",
       "    <tr>\n",
       "      <th>3</th>\n",
       "      <td>D000334</td>\n",
       "      <td>Aerophagy</td>\n",
       "      <td>1</td>\n",
       "      <td>aerophagy[MeSH Terms:noexp]</td>\n",
       "      <td>260</td>\n",
       "      <td>25073665|24796405|23772202|23772201|23636521|2...</td>\n",
       "    </tr>\n",
       "    <tr>\n",
       "      <th>4</th>\n",
       "      <td>D000370</td>\n",
       "      <td>Ageusia</td>\n",
       "      <td>1</td>\n",
       "      <td>ageusia[MeSH Terms:noexp]</td>\n",
       "      <td>220</td>\n",
       "      <td>24825557|24782205|24191925|24137848|24088167|2...</td>\n",
       "    </tr>\n",
       "  </tbody>\n",
       "</table>\n",
       "</div>"
      ],
      "text/plain": [
       "   mesh_id             mesh_name  in_hsdn  \\\n",
       "0  D000006        Abdomen, Acute        1   \n",
       "1  D000270         Adie Syndrome        0   \n",
       "2  D000326  Adrenoleukodystrophy        0   \n",
       "3  D000334             Aerophagy        1   \n",
       "4  D000370               Ageusia        1   \n",
       "\n",
       "                               term_query  n_articles  \\\n",
       "0        abdomen, acute[MeSH Terms:noexp]        8465   \n",
       "1         adie syndrome[MeSH Terms:noexp]         311   \n",
       "2  adrenoleukodystrophy[MeSH Terms:noexp]        1506   \n",
       "3             aerophagy[MeSH Terms:noexp]         260   \n",
       "4               ageusia[MeSH Terms:noexp]         220   \n",
       "\n",
       "                                          pubmed_ids  \n",
       "0  25669229|25650451|25619050|25608417|25543890|2...  \n",
       "1  24995781|24625775|24215593|23952008|23809464|2...  \n",
       "2  25583825|25378668|25297370|25275259|25149411|2...  \n",
       "3  25073665|24796405|23772202|23772201|23636521|2...  \n",
       "4  24825557|24782205|24191925|24137848|24088167|2...  "
      ]
     },
     "execution_count": 41,
     "metadata": {},
     "output_type": "execute_result"
    }
   ],
   "source": [
    "symptom_pmids_df = pandas.DataFrame(rows_out)\n",
    "\n",
    "with gzip.open('data/symptom-pmids.tsv.gz', 'w') as write_file:\n",
    "    write_file = io.TextIOWrapper(write_file)\n",
    "    symptom_pmids_df.to_csv(write_file, sep='\\t', index=False)\n",
    "\n",
    "symptom_pmids_df.head()"
   ]
  },
  {
   "cell_type": "markdown",
   "metadata": {
    "collapsed": false
   },
   "source": [
    "# Cooccurrence"
   ]
  },
  {
   "cell_type": "code",
   "execution_count": 7,
   "metadata": {
    "collapsed": false
   },
   "outputs": [],
   "source": [
    "symptom_df, symptom_to_pmids = cooccurrence.read_pmids_tsv('data/symptom-pmids.tsv.gz', key='mesh_id')\n",
    "disease_df, disease_to_pmids = cooccurrence.read_pmids_tsv('data/disease-pmids.tsv.gz', key='doid_code')"
   ]
  },
  {
   "cell_type": "code",
   "execution_count": 8,
   "metadata": {
    "collapsed": false
   },
   "outputs": [
    {
     "data": {
      "text/plain": [
       "1741776"
      ]
     },
     "execution_count": 8,
     "metadata": {},
     "output_type": "execute_result"
    }
   ],
   "source": [
    "symptom_pmids = set.union(*symptom_to_pmids.values())\n",
    "len(symptom_pmids)"
   ]
  },
  {
   "cell_type": "code",
   "execution_count": 9,
   "metadata": {
    "collapsed": false
   },
   "outputs": [
    {
     "data": {
      "text/plain": [
       "3686312"
      ]
     },
     "execution_count": 9,
     "metadata": {},
     "output_type": "execute_result"
    }
   ],
   "source": [
    "disease_pmids = set.union(*disease_to_pmids.values())\n",
    "len(disease_pmids)"
   ]
  },
  {
   "cell_type": "code",
   "execution_count": null,
   "metadata": {
    "collapsed": false
   },
   "outputs": [],
   "source": []
  },
  {
   "cell_type": "code",
   "execution_count": 14,
   "metadata": {
    "collapsed": false
   },
   "outputs": [
    {
     "name": "stdout",
     "output_type": "stream",
     "text": [
      "Total articles containing a doid_code: 3686312\n",
      "Total articles containing a mesh_id: 1741776\n",
      "Total articles containing both a doid_code and mesh_id: 405539\n",
      "\n",
      "After removing terms without any cooccurences:\n",
      "+ 133 doid_codes remain\n",
      "+ 426 mesh_ids remain\n",
      "\n",
      "Cooccurrence scores calculated for 56658 doid_code -- mesh_id pairs\n"
     ]
    }
   ],
   "source": [
    "cooc_df = cooccurrence.score_pmid_cooccurrence(disease_to_pmids, symptom_to_pmids, 'doid_code', 'mesh_id')"
   ]
  },
  {
   "cell_type": "code",
   "execution_count": 15,
   "metadata": {
    "collapsed": false
   },
   "outputs": [
    {
     "data": {
      "text/html": [
       "<div style=\"max-height:1000px;max-width:1500px;overflow:auto;\">\n",
       "<table border=\"1\" class=\"dataframe\">\n",
       "  <thead>\n",
       "    <tr style=\"text-align: right;\">\n",
       "      <th></th>\n",
       "      <th>doid_code</th>\n",
       "      <th>doid_name</th>\n",
       "      <th>mesh_id</th>\n",
       "      <th>mesh_name</th>\n",
       "      <th>cooccurrence</th>\n",
       "      <th>expected</th>\n",
       "      <th>enrichment</th>\n",
       "      <th>odds_ratio</th>\n",
       "      <th>p_fisher</th>\n",
       "    </tr>\n",
       "  </thead>\n",
       "  <tbody>\n",
       "    <tr>\n",
       "      <th>30318</th>\n",
       "      <td>DOID:10652</td>\n",
       "      <td>Alzheimer's disease</td>\n",
       "      <td>D004314</td>\n",
       "      <td>Down Syndrome</td>\n",
       "      <td>800</td>\n",
       "      <td>31.340068</td>\n",
       "      <td>25.526428</td>\n",
       "      <td>45.694983</td>\n",
       "      <td>0.000000e+00</td>\n",
       "    </tr>\n",
       "    <tr>\n",
       "      <th>30408</th>\n",
       "      <td>DOID:10652</td>\n",
       "      <td>Alzheimer's disease</td>\n",
       "      <td>D008569</td>\n",
       "      <td>Memory Disorders</td>\n",
       "      <td>1564</td>\n",
       "      <td>66.801960</td>\n",
       "      <td>23.412487</td>\n",
       "      <td>47.098472</td>\n",
       "      <td>0.000000e+00</td>\n",
       "    </tr>\n",
       "    <tr>\n",
       "      <th>30452</th>\n",
       "      <td>DOID:10652</td>\n",
       "      <td>Alzheimer's disease</td>\n",
       "      <td>D011595</td>\n",
       "      <td>Psychomotor Agitation</td>\n",
       "      <td>331</td>\n",
       "      <td>13.502524</td>\n",
       "      <td>24.513936</td>\n",
       "      <td>39.286225</td>\n",
       "      <td>0.000000e+00</td>\n",
       "    </tr>\n",
       "    <tr>\n",
       "      <th>30257</th>\n",
       "      <td>DOID:10652</td>\n",
       "      <td>Alzheimer's disease</td>\n",
       "      <td>D000647</td>\n",
       "      <td>Amnesia</td>\n",
       "      <td>303</td>\n",
       "      <td>12.408109</td>\n",
       "      <td>24.419515</td>\n",
       "      <td>38.858995</td>\n",
       "      <td>4.940656e-324</td>\n",
       "    </tr>\n",
       "    <tr>\n",
       "      <th>30381</th>\n",
       "      <td>DOID:10652</td>\n",
       "      <td>Alzheimer's disease</td>\n",
       "      <td>D006816</td>\n",
       "      <td>Huntington Disease</td>\n",
       "      <td>251</td>\n",
       "      <td>10.617248</td>\n",
       "      <td>23.640778</td>\n",
       "      <td>36.650552</td>\n",
       "      <td>4.011670e-264</td>\n",
       "    </tr>\n",
       "  </tbody>\n",
       "</table>\n",
       "</div>"
      ],
      "text/plain": [
       "        doid_code            doid_name  mesh_id              mesh_name  \\\n",
       "30318  DOID:10652  Alzheimer's disease  D004314          Down Syndrome   \n",
       "30408  DOID:10652  Alzheimer's disease  D008569       Memory Disorders   \n",
       "30452  DOID:10652  Alzheimer's disease  D011595  Psychomotor Agitation   \n",
       "30257  DOID:10652  Alzheimer's disease  D000647                Amnesia   \n",
       "30381  DOID:10652  Alzheimer's disease  D006816     Huntington Disease   \n",
       "\n",
       "       cooccurrence   expected  enrichment  odds_ratio       p_fisher  \n",
       "30318           800  31.340068   25.526428   45.694983   0.000000e+00  \n",
       "30408          1564  66.801960   23.412487   47.098472   0.000000e+00  \n",
       "30452           331  13.502524   24.513936   39.286225   0.000000e+00  \n",
       "30257           303  12.408109   24.419515   38.858995  4.940656e-324  \n",
       "30381           251  10.617248   23.640778   36.650552  4.011670e-264  "
      ]
     },
     "execution_count": 15,
     "metadata": {},
     "output_type": "execute_result"
    }
   ],
   "source": [
    "cooc_df = symptom_df[['mesh_id', 'mesh_name']].drop_duplicates().merge(cooc_df)\n",
    "cooc_df = disease_df[['doid_code', 'doid_name']].drop_duplicates().merge(cooc_df)\n",
    "cooc_df = cooc_df.sort(['doid_name', 'p_fisher'])\n",
    "cooc_df.to_csv('data/disease-symptom-cooccurrence.tsv', index=False, sep='\\t')\n",
    "cooc_df.head()"
   ]
  },
  {
   "cell_type": "code",
   "execution_count": null,
   "metadata": {
    "collapsed": false
   },
   "outputs": [],
   "source": []
  },
  {
   "cell_type": "code",
   "execution_count": 16,
   "metadata": {
    "collapsed": false
   },
   "outputs": [],
   "source": [
    "import numpy\n",
    "import scipy\n",
    "import seaborn\n",
    "import matplotlib.pyplot as plt\n",
    "\n",
    "%matplotlib inline"
   ]
  },
  {
   "cell_type": "code",
   "execution_count": 17,
   "metadata": {
    "collapsed": false
   },
   "outputs": [
    {
     "data": {
      "image/png": "[encoded data removed]",
      "text/plain": [
       "<matplotlib.figure.Figure at 0x7f4f240f33c8>"
      ]
     },
     "metadata": {},
     "output_type": "display_data"
    }
   ],
   "source": [
    "sig_df = cooc_df[cooc_df.p_fisher < 0.05]\n",
    "plt.hist(list(numpy.log(sig_df.enrichment)), bins = 50);"
   ]
  },
  {
   "cell_type": "code",
   "execution_count": null,
   "metadata": {
    "collapsed": false
   },
   "outputs": [],
   "source": []
  }
 ],
 "metadata": {
  "kernelspec": {
   "display_name": "Python 3",
   "language": "python",
   "name": "python3"
  },
  "language_info": {
   "codemirror_mode": {
    "name": "ipython",
    "version": 3
   },
   "file_extension": ".py",
   "mimetype": "text/x-python",
   "name": "python",
   "nbconvert_exporter": "python",
   "pygments_lexer": "ipython3",
   "version": "3.4.0"
  }
 },
 "nbformat": 4,
 "nbformat_minor": 0
}
