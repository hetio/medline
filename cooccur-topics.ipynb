{
 "cells": [
  {
   "cell_type": "markdown",
   "id": "6e78410f-f668-4e79-8983-0ac747c58d6d",
   "metadata": {},
   "source": [
    "# Cooccurrence of a user-selected term against all MeSH terms with citations"
   ]
  },
  {
   "cell_type": "code",
   "execution_count": 1,
   "id": "135775b5-8fae-4a1d-81d0-96fc9989dd13",
   "metadata": {},
   "outputs": [],
   "source": [
    "import datetime\n",
    "import gzip\n",
    "import pathlib\n",
    "from typing import List, Set\n",
    "\n",
    "import scipy.stats\n",
    "import tqdm\n",
    "import jsonlines\n",
    "import tqdm\n",
    "import pandas as pd\n",
    "from nxontology import NXOntology\n",
    "\n",
    "from cooccurrence import cooccurrence_metrics"
   ]
  },
  {
   "cell_type": "code",
   "execution_count": 2,
   "id": "bb3b6ec1-7e21-46b6-a8f5-c1c9fa065a3c",
   "metadata": {},
   "outputs": [
    {
     "data": {
      "text/plain": [
       "300093"
      ]
     },
     "execution_count": 2,
     "metadata": {},
     "output_type": "execute_result"
    }
   ],
   "source": [
    "# read the MeSH ontology\n",
    "nxo = NXOntology.read_node_link_json(\"data/mesh-nxo-node-link.json.gz\")\n",
    "nxo.freeze()\n",
    "nxo.n_nodes"
   ]
  },
  {
   "cell_type": "code",
   "execution_count": 3,
   "id": "6ee9d0ef-9212-4f2e-8d67-ce6edead3546",
   "metadata": {},
   "outputs": [
    {
     "data": {
      "text/plain": [
       "35533"
      ]
     },
     "execution_count": 3,
     "metadata": {},
     "output_type": "execute_result"
    }
   ],
   "source": [
    "# Read the jsonlines file\n",
    "path = pathlib.Path('data/mesh-term-topics-noexp.jsonl.gz')\n",
    "with jsonlines.Reader(gzip.open(path, \"rt\")) as reader:\n",
    "    lines = list(reader)\n",
    "for line in lines:\n",
    "    line[\"pumbed_ids\"] = set(line[\"pubmed_ids\"])\n",
    "len(lines)"
   ]
  },
  {
   "cell_type": "code",
   "execution_count": 4,
   "id": "5e9a2205-2528-4c15-8309-39c3f5a37cfd",
   "metadata": {},
   "outputs": [],
   "source": [
    "# filter topics without mesh_ids since cooccurrence cannot be computed\n",
    "mesh_id_to_line = {line[\"mesh_id\"]: line for line in lines if line[\"pubmed_ids\"]}"
   ]
  },
  {
   "cell_type": "code",
   "execution_count": 5,
   "id": "03403778-2573-4f0b-9106-1f2608c26c46",
   "metadata": {},
   "outputs": [
    {
     "data": {
      "text/plain": [
       "27700101"
      ]
     },
     "execution_count": 5,
     "metadata": {},
     "output_type": "execute_result"
    }
   ],
   "source": [
    "all_pmids: Set[str] = set()\n",
    "for line in lines:\n",
    "    all_pmids |= set(line[\"pubmed_ids\"])\n",
    "len(all_pmids)"
   ]
  },
  {
   "cell_type": "code",
   "execution_count": 6,
   "id": "d76747d0-6640-4b9b-9d1c-305433fd29ee",
   "metadata": {},
   "outputs": [],
   "source": [
    "def explode_pubmid_ids(nxo: NXOntology, mesh_id_to_line: dict, topic: str):\n",
    "    exploded_pubmed_ids = set()\n",
    "    for descendant in nxo.node_info(topic).descendants:\n",
    "        if descendant not in mesh_id_to_line:\n",
    "            continue\n",
    "        exploded_pubmed_ids |= set(mesh_id_to_line[descendant][\"pubmed_ids\"])\n",
    "    return exploded_pubmed_ids\n",
    "\n",
    "def cooccurrence_result(source_mesh_id: str, target_mesh_id: str, nxo: NXOntology, mesh_id_to_line: dict, total_pmids: int) -> dict:\n",
    "    source_pmids = explode_pubmid_ids(nxo, mesh_id_to_line, source_mesh_id)\n",
    "    target_pmids = explode_pubmid_ids(nxo, mesh_id_to_line, target_mesh_id)\n",
    "    result = {\n",
    "        \"source_mesh_id\": source_mesh_id,\n",
    "        \"target_mesh_id\": target_mesh_id,\n",
    "        \"source_mesh_label\": nxo.node_info(source_mesh_id).label,\n",
    "        \"target_mesh_label\": nxo.node_info(target_mesh_id).label,\n",
    "    }\n",
    "    result.update(cooccurrence_metrics(source_pmids, target_pmids, total_pmids=total_pmids))\n",
    "    return result"
   ]
  },
  {
   "cell_type": "code",
   "execution_count": 7,
   "id": "bc9ce436-c33c-4027-8005-01c0da8e3972",
   "metadata": {},
   "outputs": [
    {
     "data": {
      "text/plain": [
       "{'source_mesh_id': 'D005357',\n",
       " 'target_mesh_id': 'D009103',\n",
       " 'source_mesh_label': 'Fibrous Dysplasia of Bone',\n",
       " 'target_mesh_label': 'Multiple Sclerosis',\n",
       " 'cooccurrence': 1,\n",
       " 'expected': 11.212882581186257,\n",
       " 'enrichment': 0.08918313312919807,\n",
       " 'odds_ratio': 0.08898974017319211,\n",
       " 'p_fisher': 0.9999867425484787,\n",
       " 'n_source': 5106,\n",
       " 'n_target': 60830}"
      ]
     },
     "execution_count": 7,
     "metadata": {},
     "output_type": "execute_result"
    }
   ],
   "source": [
    "source_mesh_id = \"D005357\" # Fibrous Dysplasia of Bone\n",
    "target_mesh_id = \"D009103\"\n",
    "cooccurrence_result(source_mesh_id, target_mesh_id, nxo, mesh_id_to_line, total_pmids=len(all_pmids))"
   ]
  },
  {
   "cell_type": "code",
   "execution_count": 8,
   "id": "77341fd8-e927-41a0-bbe1-7692a69d4560",
   "metadata": {},
   "outputs": [
    {
     "name": "stderr",
     "output_type": "stream",
     "text": [
      "  3%|▎         | 1001/31045 [00:00<00:22, 1363.74it/s]\n"
     ]
    }
   ],
   "source": [
    "source_mesh_id = \"D005357\" # Fibrous Dysplasia of Bone\n",
    "rows = list()\n",
    "for target_mesh_id in tqdm.tqdm(mesh_id_to_line):\n",
    "    # for development\n",
    "    if len(rows) > 1000:\n",
    "        break\n",
    "    row = cooccurrence_result(source_mesh_id, target_mesh_id, nxo, mesh_id_to_line, total_pmids=len(all_pmids))\n",
    "    rows.append(row)"
   ]
  },
  {
   "cell_type": "code",
   "execution_count": 9,
   "id": "fc6360dd-9138-44ba-aca6-ee144aa3095f",
   "metadata": {},
   "outputs": [
    {
     "data": {
      "text/html": [
       "<div>\n",
       "<style scoped>\n",
       "    .dataframe tbody tr th:only-of-type {\n",
       "        vertical-align: middle;\n",
       "    }\n",
       "\n",
       "    .dataframe tbody tr th {\n",
       "        vertical-align: top;\n",
       "    }\n",
       "\n",
       "    .dataframe thead th {\n",
       "        text-align: right;\n",
       "    }\n",
       "</style>\n",
       "<table border=\"1\" class=\"dataframe\">\n",
       "  <thead>\n",
       "    <tr style=\"text-align: right;\">\n",
       "      <th></th>\n",
       "      <th>source_mesh_id</th>\n",
       "      <th>target_mesh_id</th>\n",
       "      <th>source_mesh_label</th>\n",
       "      <th>target_mesh_label</th>\n",
       "      <th>cooccurrence</th>\n",
       "      <th>expected</th>\n",
       "      <th>enrichment</th>\n",
       "      <th>odds_ratio</th>\n",
       "      <th>p_fisher</th>\n",
       "      <th>n_source</th>\n",
       "      <th>n_target</th>\n",
       "    </tr>\n",
       "  </thead>\n",
       "  <tbody>\n",
       "    <tr>\n",
       "      <th>80</th>\n",
       "      <td>D005357</td>\n",
       "      <td>C535285</td>\n",
       "      <td>Fibrous Dysplasia of Bone</td>\n",
       "      <td>Ramon Syndrome</td>\n",
       "      <td>108</td>\n",
       "      <td>0.019908</td>\n",
       "      <td>5425.009988</td>\n",
       "      <td>inf</td>\n",
       "      <td>0.000000e+00</td>\n",
       "      <td>5106</td>\n",
       "      <td>108</td>\n",
       "    </tr>\n",
       "    <tr>\n",
       "      <th>773</th>\n",
       "      <td>D005357</td>\n",
       "      <td>C537045</td>\n",
       "      <td>Fibrous Dysplasia of Bone</td>\n",
       "      <td>Albright's hereditary osteodystrophy</td>\n",
       "      <td>101</td>\n",
       "      <td>0.275760</td>\n",
       "      <td>366.260701</td>\n",
       "      <td>400.610658</td>\n",
       "      <td>3.010202e-219</td>\n",
       "      <td>5106</td>\n",
       "      <td>1496</td>\n",
       "    </tr>\n",
       "    <tr>\n",
       "      <th>541</th>\n",
       "      <td>D005357</td>\n",
       "      <td>C536444</td>\n",
       "      <td>Fibrous Dysplasia of Bone</td>\n",
       "      <td>Corneodermatoosseous syndrome</td>\n",
       "      <td>282</td>\n",
       "      <td>21.623739</td>\n",
       "      <td>13.041223</td>\n",
       "      <td>13.775837</td>\n",
       "      <td>8.109068e-207</td>\n",
       "      <td>5106</td>\n",
       "      <td>117309</td>\n",
       "    </tr>\n",
       "    <tr>\n",
       "      <th>218</th>\n",
       "      <td>D005357</td>\n",
       "      <td>C535654</td>\n",
       "      <td>Fibrous Dysplasia of Bone</td>\n",
       "      <td>Rosenthal-Kloepfer syndrome</td>\n",
       "      <td>282</td>\n",
       "      <td>21.623739</td>\n",
       "      <td>13.041223</td>\n",
       "      <td>13.775837</td>\n",
       "      <td>8.109068e-207</td>\n",
       "      <td>5106</td>\n",
       "      <td>117309</td>\n",
       "    </tr>\n",
       "    <tr>\n",
       "      <th>780</th>\n",
       "      <td>D005357</td>\n",
       "      <td>C537058</td>\n",
       "      <td>Fibrous Dysplasia of Bone</td>\n",
       "      <td>Fitzsimmons-McLachlan-Gilbert syndrome</td>\n",
       "      <td>282</td>\n",
       "      <td>21.623739</td>\n",
       "      <td>13.041223</td>\n",
       "      <td>13.775837</td>\n",
       "      <td>8.109068e-207</td>\n",
       "      <td>5106</td>\n",
       "      <td>117309</td>\n",
       "    </tr>\n",
       "    <tr>\n",
       "      <th>957</th>\n",
       "      <td>D005357</td>\n",
       "      <td>C537518</td>\n",
       "      <td>Fibrous Dysplasia of Bone</td>\n",
       "      <td>Podder-Tolmie syndrome</td>\n",
       "      <td>282</td>\n",
       "      <td>21.623739</td>\n",
       "      <td>13.041223</td>\n",
       "      <td>13.775837</td>\n",
       "      <td>8.109068e-207</td>\n",
       "      <td>5106</td>\n",
       "      <td>117309</td>\n",
       "    </tr>\n",
       "    <tr>\n",
       "      <th>107</th>\n",
       "      <td>D005357</td>\n",
       "      <td>C535335</td>\n",
       "      <td>Fibrous Dysplasia of Bone</td>\n",
       "      <td>Abderhalden-Kaufmann-Lignac syndrome</td>\n",
       "      <td>282</td>\n",
       "      <td>21.623739</td>\n",
       "      <td>13.041223</td>\n",
       "      <td>13.775837</td>\n",
       "      <td>8.109068e-207</td>\n",
       "      <td>5106</td>\n",
       "      <td>117309</td>\n",
       "    </tr>\n",
       "    <tr>\n",
       "      <th>297</th>\n",
       "      <td>D005357</td>\n",
       "      <td>C535874</td>\n",
       "      <td>Fibrous Dysplasia of Bone</td>\n",
       "      <td>Rowley-Rosenberg syndrome</td>\n",
       "      <td>282</td>\n",
       "      <td>21.623739</td>\n",
       "      <td>13.041223</td>\n",
       "      <td>13.775837</td>\n",
       "      <td>8.109068e-207</td>\n",
       "      <td>5106</td>\n",
       "      <td>117309</td>\n",
       "    </tr>\n",
       "    <tr>\n",
       "      <th>535</th>\n",
       "      <td>D005357</td>\n",
       "      <td>C536428</td>\n",
       "      <td>Fibrous Dysplasia of Bone</td>\n",
       "      <td>Cleidorhizomelic syndrome</td>\n",
       "      <td>282</td>\n",
       "      <td>21.623739</td>\n",
       "      <td>13.041223</td>\n",
       "      <td>13.775837</td>\n",
       "      <td>8.109068e-207</td>\n",
       "      <td>5106</td>\n",
       "      <td>117309</td>\n",
       "    </tr>\n",
       "    <tr>\n",
       "      <th>136</th>\n",
       "      <td>D005357</td>\n",
       "      <td>C535458</td>\n",
       "      <td>Fibrous Dysplasia of Bone</td>\n",
       "      <td>Chudley-Rozdilsky syndrome</td>\n",
       "      <td>282</td>\n",
       "      <td>21.623739</td>\n",
       "      <td>13.041223</td>\n",
       "      <td>13.775837</td>\n",
       "      <td>8.109068e-207</td>\n",
       "      <td>5106</td>\n",
       "      <td>117309</td>\n",
       "    </tr>\n",
       "  </tbody>\n",
       "</table>\n",
       "</div>"
      ],
      "text/plain": [
       "    source_mesh_id target_mesh_id          source_mesh_label  \\\n",
       "80         D005357        C535285  Fibrous Dysplasia of Bone   \n",
       "773        D005357        C537045  Fibrous Dysplasia of Bone   \n",
       "541        D005357        C536444  Fibrous Dysplasia of Bone   \n",
       "218        D005357        C535654  Fibrous Dysplasia of Bone   \n",
       "780        D005357        C537058  Fibrous Dysplasia of Bone   \n",
       "957        D005357        C537518  Fibrous Dysplasia of Bone   \n",
       "107        D005357        C535335  Fibrous Dysplasia of Bone   \n",
       "297        D005357        C535874  Fibrous Dysplasia of Bone   \n",
       "535        D005357        C536428  Fibrous Dysplasia of Bone   \n",
       "136        D005357        C535458  Fibrous Dysplasia of Bone   \n",
       "\n",
       "                          target_mesh_label  cooccurrence   expected  \\\n",
       "80                           Ramon Syndrome           108   0.019908   \n",
       "773    Albright's hereditary osteodystrophy           101   0.275760   \n",
       "541           Corneodermatoosseous syndrome           282  21.623739   \n",
       "218             Rosenthal-Kloepfer syndrome           282  21.623739   \n",
       "780  Fitzsimmons-McLachlan-Gilbert syndrome           282  21.623739   \n",
       "957                  Podder-Tolmie syndrome           282  21.623739   \n",
       "107    Abderhalden-Kaufmann-Lignac syndrome           282  21.623739   \n",
       "297               Rowley-Rosenberg syndrome           282  21.623739   \n",
       "535               Cleidorhizomelic syndrome           282  21.623739   \n",
       "136              Chudley-Rozdilsky syndrome           282  21.623739   \n",
       "\n",
       "      enrichment  odds_ratio       p_fisher  n_source  n_target  \n",
       "80   5425.009988         inf   0.000000e+00      5106       108  \n",
       "773   366.260701  400.610658  3.010202e-219      5106      1496  \n",
       "541    13.041223   13.775837  8.109068e-207      5106    117309  \n",
       "218    13.041223   13.775837  8.109068e-207      5106    117309  \n",
       "780    13.041223   13.775837  8.109068e-207      5106    117309  \n",
       "957    13.041223   13.775837  8.109068e-207      5106    117309  \n",
       "107    13.041223   13.775837  8.109068e-207      5106    117309  \n",
       "297    13.041223   13.775837  8.109068e-207      5106    117309  \n",
       "535    13.041223   13.775837  8.109068e-207      5106    117309  \n",
       "136    13.041223   13.775837  8.109068e-207      5106    117309  "
      ]
     },
     "execution_count": 9,
     "metadata": {},
     "output_type": "execute_result"
    }
   ],
   "source": [
    "cooccur_df = pd.DataFrame(rows)\n",
    "cooccur_df.sort_values(\"p_fisher\").head(10)"
   ]
  }
 ],
 "metadata": {
  "kernelspec": {
   "display_name": "Python 3",
   "language": "python",
   "name": "python3"
  },
  "language_info": {
   "codemirror_mode": {
    "name": "ipython",
    "version": 3
   },
   "file_extension": ".py",
   "mimetype": "text/x-python",
   "name": "python",
   "nbconvert_exporter": "python",
   "pygments_lexer": "ipython3",
   "version": "3.9.2"
  }
 },
 "nbformat": 4,
 "nbformat_minor": 5
}
