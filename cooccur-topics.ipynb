{
 "cells": [
  {
   "cell_type": "markdown",
   "id": "6e78410f-f668-4e79-8983-0ac747c58d6d",
   "metadata": {},
   "source": [
    "# Cooccurrence of a user-selected term against all MeSH terms with citations"
   ]
  },
  {
   "cell_type": "code",
   "execution_count": 1,
   "id": "fe5814b0-9d56-482f-8990-309f9c9b2db2",
   "metadata": {},
   "outputs": [
    {
     "name": "stdout",
     "output_type": "stream",
     "text": [
      "\u001b[33m7744a88\u001b[m\u001b[33m (\u001b[m\u001b[1;36mHEAD -> \u001b[m\u001b[1;32mmain\u001b[m\u001b[33m, \u001b[m\u001b[1;31morigin/main\u001b[m\u001b[33m)\u001b[m Query pubmed with quoted MeSH terms and [nm]\n"
     ]
    }
   ],
   "source": [
    "! git log -1 --oneline"
   ]
  },
  {
   "cell_type": "code",
   "execution_count": 2,
   "id": "135775b5-8fae-4a1d-81d0-96fc9989dd13",
   "metadata": {},
   "outputs": [],
   "source": [
    "import datetime\n",
    "import gzip\n",
    "import pathlib\n",
    "from typing import List, Set\n",
    "\n",
    "import scipy.stats\n",
    "import tqdm\n",
    "import jsonlines\n",
    "import tqdm\n",
    "import pandas as pd\n",
    "from nxontology import NXOntology\n",
    "\n",
    "from cooccurrence import cooccurrence_metrics"
   ]
  },
  {
   "cell_type": "code",
   "execution_count": 3,
   "id": "bb3b6ec1-7e21-46b6-a8f5-c1c9fa065a3c",
   "metadata": {},
   "outputs": [
    {
     "data": {
      "text/plain": [
       "300093"
      ]
     },
     "execution_count": 3,
     "metadata": {},
     "output_type": "execute_result"
    }
   ],
   "source": [
    "# read the MeSH ontology\n",
    "nxo = NXOntology.read_node_link_json(\"data/mesh-nxo-node-link.json.gz\")\n",
    "nxo.freeze()\n",
    "nxo.n_nodes"
   ]
  },
  {
   "cell_type": "code",
   "execution_count": 4,
   "id": "6ee9d0ef-9212-4f2e-8d67-ce6edead3546",
   "metadata": {},
   "outputs": [
    {
     "data": {
      "text/plain": [
       "35533"
      ]
     },
     "execution_count": 4,
     "metadata": {},
     "output_type": "execute_result"
    }
   ],
   "source": [
    "# Read the jsonlines file\n",
    "path = pathlib.Path('data/mesh-term-topics-noexp.jsonl.gz')\n",
    "with jsonlines.Reader(gzip.open(path, \"rt\")) as reader:\n",
    "    lines = list(reader)\n",
    "for line in lines:\n",
    "    line[\"pumbed_ids\"] = set(line[\"pubmed_ids\"])\n",
    "len(lines)"
   ]
  },
  {
   "cell_type": "code",
   "execution_count": 5,
   "id": "5e9a2205-2528-4c15-8309-39c3f5a37cfd",
   "metadata": {},
   "outputs": [],
   "source": [
    "# filter topics without mesh_ids since cooccurrence cannot be computed\n",
    "mesh_id_to_line = {line[\"mesh_id\"]: line for line in lines if line[\"pubmed_ids\"]}"
   ]
  },
  {
   "cell_type": "code",
   "execution_count": 6,
   "id": "03403778-2573-4f0b-9106-1f2608c26c46",
   "metadata": {},
   "outputs": [
    {
     "data": {
      "text/plain": [
       "27698253"
      ]
     },
     "execution_count": 6,
     "metadata": {},
     "output_type": "execute_result"
    }
   ],
   "source": [
    "all_pmids: Set[str] = set()\n",
    "for line in lines:\n",
    "    all_pmids |= set(line[\"pubmed_ids\"])\n",
    "len(all_pmids)"
   ]
  },
  {
   "cell_type": "code",
   "execution_count": 7,
   "id": "d76747d0-6640-4b9b-9d1c-305433fd29ee",
   "metadata": {},
   "outputs": [],
   "source": [
    "def explode_pubmid_ids(nxo: NXOntology, mesh_id_to_line: dict, topic: str):\n",
    "    exploded_pubmed_ids = set()\n",
    "    for descendant in nxo.node_info(topic).descendants:\n",
    "        if descendant not in mesh_id_to_line:\n",
    "            continue\n",
    "        exploded_pubmed_ids |= set(mesh_id_to_line[descendant][\"pubmed_ids\"])\n",
    "    return exploded_pubmed_ids\n",
    "\n",
    "def cooccurrence_result(source_mesh_id: str, target_mesh_id: str, nxo: NXOntology, mesh_id_to_line: dict, total_pmids: int) -> dict:\n",
    "    source_pmids = explode_pubmid_ids(nxo, mesh_id_to_line, source_mesh_id)\n",
    "    target_pmids = explode_pubmid_ids(nxo, mesh_id_to_line, target_mesh_id)\n",
    "    result = {\n",
    "        \"source_mesh_id\": source_mesh_id,\n",
    "        \"target_mesh_id\": target_mesh_id,\n",
    "        \"source_mesh_label\": nxo.node_info(source_mesh_id).label,\n",
    "        \"target_mesh_label\": nxo.node_info(target_mesh_id).label,\n",
    "    }\n",
    "    result.update(cooccurrence_metrics(source_pmids, target_pmids, total_pmids=total_pmids))\n",
    "    return result"
   ]
  },
  {
   "cell_type": "code",
   "execution_count": 8,
   "id": "bc9ce436-c33c-4027-8005-01c0da8e3972",
   "metadata": {},
   "outputs": [
    {
     "data": {
      "text/plain": [
       "{'source_mesh_id': 'D005357',\n",
       " 'target_mesh_id': 'D009103',\n",
       " 'source_mesh_label': 'Fibrous Dysplasia of Bone',\n",
       " 'target_mesh_label': 'Multiple Sclerosis',\n",
       " 'cooccurrence': 0,\n",
       " 'expected': 10.945734736410992,\n",
       " 'enrichment': 0.0,\n",
       " 'odds_ratio': 0.0,\n",
       " 'p_fisher': 1.0,\n",
       " 'n_source': 4985,\n",
       " 'n_target': 60818}"
      ]
     },
     "execution_count": 8,
     "metadata": {},
     "output_type": "execute_result"
    }
   ],
   "source": [
    "source_mesh_id = \"D005357\" # Fibrous Dysplasia of Bone\n",
    "target_mesh_id = \"D009103\"\n",
    "cooccurrence_result(source_mesh_id, target_mesh_id, nxo, mesh_id_to_line, total_pmids=len(all_pmids))"
   ]
  },
  {
   "cell_type": "code",
   "execution_count": 9,
   "id": "77341fd8-e927-41a0-bbe1-7692a69d4560",
   "metadata": {},
   "outputs": [
    {
     "name": "stderr",
     "output_type": "stream",
     "text": [
      "100%|██████████| 32568/32568 [05:11<00:00, 104.58it/s] \n"
     ]
    }
   ],
   "source": [
    "source_mesh_id = \"D005357\" # Fibrous Dysplasia of Bone\n",
    "\n",
    "rows = list()\n",
    "for target_mesh_id in tqdm.tqdm(mesh_id_to_line):\n",
    "    # for development\n",
    "#     if len(rows) > 1000:\n",
    "#         break\n",
    "    row = cooccurrence_result(source_mesh_id, target_mesh_id, nxo, mesh_id_to_line, total_pmids=len(all_pmids))\n",
    "    rows.append(row)"
   ]
  },
  {
   "cell_type": "code",
   "execution_count": 10,
   "id": "fc6360dd-9138-44ba-aca6-ee144aa3095f",
   "metadata": {},
   "outputs": [
    {
     "data": {
      "text/html": [
       "<div>\n",
       "<style scoped>\n",
       "    .dataframe tbody tr th:only-of-type {\n",
       "        vertical-align: middle;\n",
       "    }\n",
       "\n",
       "    .dataframe tbody tr th {\n",
       "        vertical-align: top;\n",
       "    }\n",
       "\n",
       "    .dataframe thead th {\n",
       "        text-align: right;\n",
       "    }\n",
       "</style>\n",
       "<table border=\"1\" class=\"dataframe\">\n",
       "  <thead>\n",
       "    <tr style=\"text-align: right;\">\n",
       "      <th></th>\n",
       "      <th>source_mesh_id</th>\n",
       "      <th>target_mesh_id</th>\n",
       "      <th>source_mesh_label</th>\n",
       "      <th>target_mesh_label</th>\n",
       "      <th>cooccurrence</th>\n",
       "      <th>expected</th>\n",
       "      <th>enrichment</th>\n",
       "      <th>odds_ratio</th>\n",
       "      <th>p_fisher</th>\n",
       "      <th>n_source</th>\n",
       "      <th>n_target</th>\n",
       "    </tr>\n",
       "  </thead>\n",
       "  <tbody>\n",
       "    <tr>\n",
       "      <th>8235</th>\n",
       "      <td>D005357</td>\n",
       "      <td>D002636</td>\n",
       "      <td>Fibrous Dysplasia of Bone</td>\n",
       "      <td>Cherubism</td>\n",
       "      <td>432</td>\n",
       "      <td>0.077749</td>\n",
       "      <td>5556.319559</td>\n",
       "      <td>inf</td>\n",
       "      <td>0.0</td>\n",
       "      <td>4985</td>\n",
       "      <td>432</td>\n",
       "    </tr>\n",
       "    <tr>\n",
       "      <th>10805</th>\n",
       "      <td>D005357</td>\n",
       "      <td>D005357</td>\n",
       "      <td>Fibrous Dysplasia of Bone</td>\n",
       "      <td>Fibrous Dysplasia of Bone</td>\n",
       "      <td>4985</td>\n",
       "      <td>0.897177</td>\n",
       "      <td>5556.319559</td>\n",
       "      <td>inf</td>\n",
       "      <td>0.0</td>\n",
       "      <td>4985</td>\n",
       "      <td>4985</td>\n",
       "    </tr>\n",
       "    <tr>\n",
       "      <th>10806</th>\n",
       "      <td>D005357</td>\n",
       "      <td>D005358</td>\n",
       "      <td>Fibrous Dysplasia of Bone</td>\n",
       "      <td>Fibrous Dysplasia, Monostotic</td>\n",
       "      <td>455</td>\n",
       "      <td>0.081889</td>\n",
       "      <td>5556.319559</td>\n",
       "      <td>inf</td>\n",
       "      <td>0.0</td>\n",
       "      <td>4985</td>\n",
       "      <td>455</td>\n",
       "    </tr>\n",
       "    <tr>\n",
       "      <th>10807</th>\n",
       "      <td>D005357</td>\n",
       "      <td>D005359</td>\n",
       "      <td>Fibrous Dysplasia of Bone</td>\n",
       "      <td>Fibrous Dysplasia, Polyostotic</td>\n",
       "      <td>1446</td>\n",
       "      <td>0.260244</td>\n",
       "      <td>5556.319559</td>\n",
       "      <td>inf</td>\n",
       "      <td>0.0</td>\n",
       "      <td>4985</td>\n",
       "      <td>1446</td>\n",
       "    </tr>\n",
       "    <tr>\n",
       "      <th>15098</th>\n",
       "      <td>D005357</td>\n",
       "      <td>D010002</td>\n",
       "      <td>Fibrous Dysplasia of Bone</td>\n",
       "      <td>Osteitis Fibrosa Cystica</td>\n",
       "      <td>570</td>\n",
       "      <td>0.291920</td>\n",
       "      <td>1952.590720</td>\n",
       "      <td>3398.490955</td>\n",
       "      <td>0.0</td>\n",
       "      <td>4985</td>\n",
       "      <td>1622</td>\n",
       "    </tr>\n",
       "    <tr>\n",
       "      <th>15105</th>\n",
       "      <td>D005357</td>\n",
       "      <td>D010009</td>\n",
       "      <td>Fibrous Dysplasia of Bone</td>\n",
       "      <td>Osteochondrodysplasias</td>\n",
       "      <td>4985</td>\n",
       "      <td>5.510482</td>\n",
       "      <td>904.639526</td>\n",
       "      <td>inf</td>\n",
       "      <td>0.0</td>\n",
       "      <td>4985</td>\n",
       "      <td>30618</td>\n",
       "    </tr>\n",
       "    <tr>\n",
       "      <th>15096</th>\n",
       "      <td>D005357</td>\n",
       "      <td>D010000</td>\n",
       "      <td>Fibrous Dysplasia of Bone</td>\n",
       "      <td>Osteitis</td>\n",
       "      <td>508</td>\n",
       "      <td>0.711802</td>\n",
       "      <td>713.681501</td>\n",
       "      <td>911.497502</td>\n",
       "      <td>0.0</td>\n",
       "      <td>4985</td>\n",
       "      <td>3955</td>\n",
       "    </tr>\n",
       "    <tr>\n",
       "      <th>23170</th>\n",
       "      <td>D005357</td>\n",
       "      <td>D019205</td>\n",
       "      <td>Fibrous Dysplasia of Bone</td>\n",
       "      <td>GTP-Binding Protein alpha Subunits, Gs</td>\n",
       "      <td>218</td>\n",
       "      <td>0.385507</td>\n",
       "      <td>565.489105</td>\n",
       "      <td>658.188528</td>\n",
       "      <td>0.0</td>\n",
       "      <td>4985</td>\n",
       "      <td>2142</td>\n",
       "    </tr>\n",
       "    <tr>\n",
       "      <th>7503</th>\n",
       "      <td>D005357</td>\n",
       "      <td>D001848</td>\n",
       "      <td>Fibrous Dysplasia of Bone</td>\n",
       "      <td>Bone Diseases, Developmental</td>\n",
       "      <td>4985</td>\n",
       "      <td>14.657724</td>\n",
       "      <td>340.093722</td>\n",
       "      <td>inf</td>\n",
       "      <td>0.0</td>\n",
       "      <td>4985</td>\n",
       "      <td>81443</td>\n",
       "    </tr>\n",
       "    <tr>\n",
       "      <th>16640</th>\n",
       "      <td>D005357</td>\n",
       "      <td>D011629</td>\n",
       "      <td>Fibrous Dysplasia of Bone</td>\n",
       "      <td>Puberty, Precocious</td>\n",
       "      <td>190</td>\n",
       "      <td>0.841564</td>\n",
       "      <td>225.770042</td>\n",
       "      <td>244.573598</td>\n",
       "      <td>0.0</td>\n",
       "      <td>4985</td>\n",
       "      <td>4676</td>\n",
       "    </tr>\n",
       "    <tr>\n",
       "      <th>7504</th>\n",
       "      <td>D005357</td>\n",
       "      <td>D001849</td>\n",
       "      <td>Fibrous Dysplasia of Bone</td>\n",
       "      <td>Bone Diseases, Endocrine</td>\n",
       "      <td>660</td>\n",
       "      <td>3.252513</td>\n",
       "      <td>202.920037</td>\n",
       "      <td>242.554998</td>\n",
       "      <td>0.0</td>\n",
       "      <td>4985</td>\n",
       "      <td>18072</td>\n",
       "    </tr>\n",
       "    <tr>\n",
       "      <th>15112</th>\n",
       "      <td>D005357</td>\n",
       "      <td>D010016</td>\n",
       "      <td>Fibrous Dysplasia of Bone</td>\n",
       "      <td>Osteoma</td>\n",
       "      <td>200</td>\n",
       "      <td>1.073912</td>\n",
       "      <td>186.234944</td>\n",
       "      <td>200.669728</td>\n",
       "      <td>0.0</td>\n",
       "      <td>4985</td>\n",
       "      <td>5967</td>\n",
       "    </tr>\n",
       "    <tr>\n",
       "      <th>27191</th>\n",
       "      <td>D005357</td>\n",
       "      <td>D044385</td>\n",
       "      <td>Fibrous Dysplasia of Bone</td>\n",
       "      <td>GTP-Binding Protein alpha Subunits</td>\n",
       "      <td>222</td>\n",
       "      <td>1.412806</td>\n",
       "      <td>157.134133</td>\n",
       "      <td>169.167245</td>\n",
       "      <td>0.0</td>\n",
       "      <td>4985</td>\n",
       "      <td>7850</td>\n",
       "    </tr>\n",
       "    <tr>\n",
       "      <th>13657</th>\n",
       "      <td>D005357</td>\n",
       "      <td>D008439</td>\n",
       "      <td>Fibrous Dysplasia of Bone</td>\n",
       "      <td>Maxillary Diseases</td>\n",
       "      <td>220</td>\n",
       "      <td>1.591701</td>\n",
       "      <td>138.216904</td>\n",
       "      <td>148.214254</td>\n",
       "      <td>0.0</td>\n",
       "      <td>4985</td>\n",
       "      <td>8844</td>\n",
       "    </tr>\n",
       "    <tr>\n",
       "      <th>7500</th>\n",
       "      <td>D005357</td>\n",
       "      <td>D001845</td>\n",
       "      <td>Fibrous Dysplasia of Bone</td>\n",
       "      <td>Bone Cysts</td>\n",
       "      <td>282</td>\n",
       "      <td>2.398530</td>\n",
       "      <td>117.572005</td>\n",
       "      <td>127.232960</td>\n",
       "      <td>0.0</td>\n",
       "      <td>4985</td>\n",
       "      <td>13327</td>\n",
       "    </tr>\n",
       "  </tbody>\n",
       "</table>\n",
       "</div>"
      ],
      "text/plain": [
       "      source_mesh_id target_mesh_id          source_mesh_label  \\\n",
       "8235         D005357        D002636  Fibrous Dysplasia of Bone   \n",
       "10805        D005357        D005357  Fibrous Dysplasia of Bone   \n",
       "10806        D005357        D005358  Fibrous Dysplasia of Bone   \n",
       "10807        D005357        D005359  Fibrous Dysplasia of Bone   \n",
       "15098        D005357        D010002  Fibrous Dysplasia of Bone   \n",
       "15105        D005357        D010009  Fibrous Dysplasia of Bone   \n",
       "15096        D005357        D010000  Fibrous Dysplasia of Bone   \n",
       "23170        D005357        D019205  Fibrous Dysplasia of Bone   \n",
       "7503         D005357        D001848  Fibrous Dysplasia of Bone   \n",
       "16640        D005357        D011629  Fibrous Dysplasia of Bone   \n",
       "7504         D005357        D001849  Fibrous Dysplasia of Bone   \n",
       "15112        D005357        D010016  Fibrous Dysplasia of Bone   \n",
       "27191        D005357        D044385  Fibrous Dysplasia of Bone   \n",
       "13657        D005357        D008439  Fibrous Dysplasia of Bone   \n",
       "7500         D005357        D001845  Fibrous Dysplasia of Bone   \n",
       "\n",
       "                            target_mesh_label  cooccurrence   expected  \\\n",
       "8235                                Cherubism           432   0.077749   \n",
       "10805               Fibrous Dysplasia of Bone          4985   0.897177   \n",
       "10806           Fibrous Dysplasia, Monostotic           455   0.081889   \n",
       "10807          Fibrous Dysplasia, Polyostotic          1446   0.260244   \n",
       "15098                Osteitis Fibrosa Cystica           570   0.291920   \n",
       "15105                  Osteochondrodysplasias          4985   5.510482   \n",
       "15096                                Osteitis           508   0.711802   \n",
       "23170  GTP-Binding Protein alpha Subunits, Gs           218   0.385507   \n",
       "7503             Bone Diseases, Developmental          4985  14.657724   \n",
       "16640                     Puberty, Precocious           190   0.841564   \n",
       "7504                 Bone Diseases, Endocrine           660   3.252513   \n",
       "15112                                 Osteoma           200   1.073912   \n",
       "27191      GTP-Binding Protein alpha Subunits           222   1.412806   \n",
       "13657                      Maxillary Diseases           220   1.591701   \n",
       "7500                               Bone Cysts           282   2.398530   \n",
       "\n",
       "        enrichment   odds_ratio  p_fisher  n_source  n_target  \n",
       "8235   5556.319559          inf       0.0      4985       432  \n",
       "10805  5556.319559          inf       0.0      4985      4985  \n",
       "10806  5556.319559          inf       0.0      4985       455  \n",
       "10807  5556.319559          inf       0.0      4985      1446  \n",
       "15098  1952.590720  3398.490955       0.0      4985      1622  \n",
       "15105   904.639526          inf       0.0      4985     30618  \n",
       "15096   713.681501   911.497502       0.0      4985      3955  \n",
       "23170   565.489105   658.188528       0.0      4985      2142  \n",
       "7503    340.093722          inf       0.0      4985     81443  \n",
       "16640   225.770042   244.573598       0.0      4985      4676  \n",
       "7504    202.920037   242.554998       0.0      4985     18072  \n",
       "15112   186.234944   200.669728       0.0      4985      5967  \n",
       "27191   157.134133   169.167245       0.0      4985      7850  \n",
       "13657   138.216904   148.214254       0.0      4985      8844  \n",
       "7500    117.572005   127.232960       0.0      4985     13327  "
      ]
     },
     "execution_count": 10,
     "metadata": {},
     "output_type": "execute_result"
    }
   ],
   "source": [
    "cooccur_df = pd.DataFrame(rows)\n",
    "cooccur_df = cooccur_df.sort_values(by=[\"p_fisher\", \"enrichment\"], ascending=[True, False])\n",
    "cooccur_df.head(15)"
   ]
  },
  {
   "cell_type": "code",
   "execution_count": 11,
   "id": "8e0ad8d5-6414-45ec-aad7-1ca73c0c2d3a",
   "metadata": {},
   "outputs": [],
   "source": [
    "# cooccur_df.head(1000).to_excel(\"data/medline-cooccurrence.xlsx\", index=False, freeze_panes=(0, 1))"
   ]
  }
 ],
 "metadata": {
  "kernelspec": {
   "display_name": "Python 3",
   "language": "python",
   "name": "python3"
  },
  "language_info": {
   "codemirror_mode": {
    "name": "ipython",
    "version": 3
   },
   "file_extension": ".py",
   "mimetype": "text/x-python",
   "name": "python",
   "nbconvert_exporter": "python",
   "pygments_lexer": "ipython3",
   "version": "3.9.2"
  }
 },
 "nbformat": 4,
 "nbformat_minor": 5
}
