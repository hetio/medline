{
 "cells": [
  {
   "cell_type": "markdown",
   "id": "59a31d15-b048-4518-a56a-394d456d57a6",
   "metadata": {},
   "source": [
    "# Download MEDLINE topics for all MeSH Topical Descriptors and SCR Diseases"
   ]
  },
  {
   "cell_type": "code",
   "execution_count": 1,
   "id": "0fd925e3-aba3-434b-92b1-b268f6a7799b",
   "metadata": {},
   "outputs": [],
   "source": [
    "import datetime\n",
    "import gzip\n",
    "import pathlib\n",
    "\n",
    "import tenacity\n",
    "import jsonlines\n",
    "import tqdm\n",
    "import pandas as pd\n",
    "from pubmedpy.eutilities import esearch_query\n",
    "from nxontology import NXOntology"
   ]
  },
  {
   "cell_type": "code",
   "execution_count": 2,
   "id": "ea711065-ce1f-4aac-b6c6-abd0a504d80c",
   "metadata": {},
   "outputs": [],
   "source": [
    "@tenacity.retry(wait=tenacity.wait_exponential(min=2, max=2**10))\n",
    "def query_topic(mesh_term: str, scr: bool = False) -> dict:\n",
    "    \"\"\"\n",
    "    mesh_term is the name/label of a MeSH Term.\n",
    "    scr: whether the MeSH term is a supplementary concept.\n",
    "         See https://github.com/hetio/medline/issues/4.\n",
    "    \"\"\"\n",
    "    result = {}\n",
    "    # https://pubmed.ncbi.nlm.nih.gov/help/#pubmed-format\n",
    "    term_query = f'\"{mesh_term}\" [{\"Supplementary Concept\" if scr else \"MeSH Terms\"}:noexp]'\n",
    "    result[\"pubmed_search\"] = term_query\n",
    "    payload = {'db': 'pubmed', 'term': term_query}\n",
    "    result[\"timestamp\"] = datetime.datetime.utcnow().isoformat(timespec=\"seconds\")\n",
    "    result[\"pubmed_ids\"] = sorted(esearch_query(payload, retmax = 5000, tqdm=None))\n",
    "    return result"
   ]
  },
  {
   "cell_type": "code",
   "execution_count": 3,
   "id": "df08612e-df1c-411b-9e5f-42cba0192574",
   "metadata": {
    "tags": []
   },
   "outputs": [
    {
     "data": {
      "text/plain": [
       "{'pubmed_search': '\"Tabatznik syndrome\" [Supplementary Concept:noexp]',\n",
       " 'timestamp': '2021-04-12T20:05:16',\n",
       " 'pubmed_ids': []}"
      ]
     },
     "execution_count": 3,
     "metadata": {},
     "output_type": "execute_result"
    }
   ],
   "source": [
    "# example query\n",
    "query_topic(\"Tabatznik syndrome\", scr=True)"
   ]
  },
  {
   "cell_type": "markdown",
   "id": "f50387db-d61f-417d-9316-664f2c42c510",
   "metadata": {},
   "source": [
    "## Load MeSH Ontology"
   ]
  },
  {
   "cell_type": "code",
   "execution_count": 4,
   "id": "967432ee-1e49-4236-a076-ff922bf3a071",
   "metadata": {},
   "outputs": [
    {
     "data": {
      "text/plain": [
       "300093"
      ]
     },
     "execution_count": 4,
     "metadata": {},
     "output_type": "execute_result"
    }
   ],
   "source": [
    "# read the MeSH ontology\n",
    "nxo = NXOntology.read_node_link_json(\"data/mesh-nxo-node-link.json.gz\")\n",
    "nxo.n_nodes"
   ]
  },
  {
   "cell_type": "code",
   "execution_count": 5,
   "id": "ad017896-60a7-4dfc-ae78-8e89c339c68d",
   "metadata": {},
   "outputs": [
    {
     "data": {
      "text/html": [
       "<div>\n",
       "<style scoped>\n",
       "    .dataframe tbody tr th:only-of-type {\n",
       "        vertical-align: middle;\n",
       "    }\n",
       "\n",
       "    .dataframe tbody tr th {\n",
       "        vertical-align: top;\n",
       "    }\n",
       "\n",
       "    .dataframe thead th {\n",
       "        text-align: right;\n",
       "    }\n",
       "</style>\n",
       "<table border=\"1\" class=\"dataframe\">\n",
       "  <thead>\n",
       "    <tr style=\"text-align: right;\">\n",
       "      <th></th>\n",
       "      <th>mesh_id</th>\n",
       "      <th>mesh_class</th>\n",
       "      <th>mesh_uri</th>\n",
       "      <th>mesh_label</th>\n",
       "      <th>tree_numbers</th>\n",
       "    </tr>\n",
       "  </thead>\n",
       "  <tbody>\n",
       "    <tr>\n",
       "      <th>0</th>\n",
       "      <td>D005260</td>\n",
       "      <td>CheckTag</td>\n",
       "      <td>http://id.nlm.nih.gov/mesh/2020/D005260</td>\n",
       "      <td>Female</td>\n",
       "      <td>NaN</td>\n",
       "    </tr>\n",
       "    <tr>\n",
       "      <th>1</th>\n",
       "      <td>D008297</td>\n",
       "      <td>CheckTag</td>\n",
       "      <td>http://id.nlm.nih.gov/mesh/2020/D008297</td>\n",
       "      <td>Male</td>\n",
       "      <td>NaN</td>\n",
       "    </tr>\n",
       "  </tbody>\n",
       "</table>\n",
       "</div>"
      ],
      "text/plain": [
       "   mesh_id mesh_class                                 mesh_uri mesh_label  \\\n",
       "0  D005260   CheckTag  http://id.nlm.nih.gov/mesh/2020/D005260     Female   \n",
       "1  D008297   CheckTag  http://id.nlm.nih.gov/mesh/2020/D008297       Male   \n",
       "\n",
       "  tree_numbers  \n",
       "0          NaN  \n",
       "1          NaN  "
      ]
     },
     "execution_count": 5,
     "metadata": {},
     "output_type": "execute_result"
    }
   ],
   "source": [
    "nodes_data = [data for node, data in nxo.graph.nodes(data=True)]\n",
    "nodes_data.sort(key=lambda x: (x[\"mesh_class\"], x[\"mesh_id\"]))\n",
    "term_df = pd.DataFrame(nodes_data)\n",
    "term_df.head(2)"
   ]
  },
  {
   "cell_type": "code",
   "execution_count": 6,
   "id": "755c6040-83e4-4752-aebb-ff0de812eef9",
   "metadata": {},
   "outputs": [
    {
     "data": {
      "text/plain": [
       "SCR_Chemical              243740\n",
       "TopicalDescriptor          29054\n",
       "SCR_Organism               19019\n",
       "SCR_Disease                 6479\n",
       "SCR_Protocol                1215\n",
       "GeographicalDescriptor       397\n",
       "PublicationType              187\n",
       "CheckTag                       2\n",
       "Name: mesh_class, dtype: int64"
      ]
     },
     "execution_count": 6,
     "metadata": {},
     "output_type": "execute_result"
    }
   ],
   "source": [
    "term_df.mesh_class.value_counts()"
   ]
  },
  {
   "cell_type": "code",
   "execution_count": 7,
   "id": "d2026b7b-32e8-437a-8a13-0902cc7f13f9",
   "metadata": {},
   "outputs": [
    {
     "data": {
      "text/plain": [
       "35533"
      ]
     },
     "execution_count": 7,
     "metadata": {},
     "output_type": "execute_result"
    }
   ],
   "source": [
    "# filter to classes of interest\n",
    "keep_classes = {\"TopicalDescriptor\", \"SCR_Disease\"}\n",
    "nodes_data = [info for info in nodes_data if info[\"mesh_class\"] in keep_classes]\n",
    "mesh_ids = [x[\"mesh_id\"] for x in nodes_data]\n",
    "len(nodes_data)"
   ]
  },
  {
   "cell_type": "code",
   "execution_count": 8,
   "id": "bf487760-6978-4509-bdea-9bbd719d6d08",
   "metadata": {},
   "outputs": [
    {
     "data": {
      "text/plain": [
       "{'mesh_id': 'C000591739',\n",
       " 'mesh_class': 'SCR_Disease',\n",
       " 'mesh_uri': 'http://id.nlm.nih.gov/mesh/2020/C000591739',\n",
       " 'mesh_label': 'Familial gynecomastia, due to increased aromatase activity'}"
      ]
     },
     "execution_count": 8,
     "metadata": {},
     "output_type": "execute_result"
    }
   ],
   "source": [
    "nodes_data[0]"
   ]
  },
  {
   "cell_type": "markdown",
   "id": "c5c5f986-b705-4ffa-a362-7690458f3659",
   "metadata": {},
   "source": [
    "## Perform queries"
   ]
  },
  {
   "cell_type": "code",
   "execution_count": 9,
   "id": "d5eb4727-d219-4635-88f7-659be5e66746",
   "metadata": {},
   "outputs": [
    {
     "name": "stdout",
     "output_type": "stream",
     "text": [
      "35,533 total mesh_ids: 0 already queried, 35,533 new\n"
     ]
    }
   ],
   "source": [
    "# read already queried affiliations\n",
    "path = pathlib.Path('data/mesh-term-topics-noexp.jsonl.gz')\n",
    "lines = jsonlines.Reader(gzip.open(path, \"rt\")) if path.exists() else []\n",
    "existing = {row['mesh_id'] for row in lines}\n",
    "new = sorted(set(mesh_ids) - existing)\n",
    "print(f\"{len(mesh_ids):,} total mesh_ids: {len(existing):,} already queried, {len(new):,} new\")"
   ]
  },
  {
   "cell_type": "code",
   "execution_count": 10,
   "id": "f7cf722e-5239-49ce-9c1d-8090c497ac11",
   "metadata": {},
   "outputs": [
    {
     "name": "stderr",
     "output_type": "stream",
     "text": [
      "100%|██████████| 35533/35533 [15:30:42<00:00,  1.57s/it]      \n"
     ]
    }
   ],
   "source": [
    "# query new affiliations and append to JSON Lines file\n",
    "write_file = gzip.GzipFile(filename=path, mode=\"ab\", mtime=0)\n",
    "with write_file:\n",
    "    with jsonlines.Writer(write_file) as writer:\n",
    "        for mesh_id in tqdm.tqdm(new):\n",
    "            result = nxo.graph.nodes[mesh_id].copy()\n",
    "            result.update(query_topic(result[\"mesh_label\"], result[\"mesh_class\"] != \"TopicalDescriptor\"))\n",
    "            writer.write(result)"
   ]
  },
  {
   "cell_type": "code",
   "execution_count": 11,
   "id": "14ce8898-f1be-4e17-b78b-128bfe08676a",
   "metadata": {},
   "outputs": [
    {
     "data": {
      "text/plain": [
       "35533"
      ]
     },
     "execution_count": 11,
     "metadata": {},
     "output_type": "execute_result"
    }
   ],
   "source": [
    "# Read the jsonlines file\n",
    "with jsonlines.Reader(gzip.open(path, \"rt\")) as reader:\n",
    "    lines = list(reader)\n",
    "len(lines)"
   ]
  },
  {
   "cell_type": "code",
   "execution_count": 12,
   "id": "02a69105-a4b0-48cb-a834-465e93e0156c",
   "metadata": {},
   "outputs": [
    {
     "data": {
      "text/plain": [
       "['mesh_id',\n",
       " 'mesh_class',\n",
       " 'mesh_uri',\n",
       " 'mesh_label',\n",
       " 'pubmed_search',\n",
       " 'timestamp',\n",
       " 'pubmed_ids']"
      ]
     },
     "execution_count": 12,
     "metadata": {},
     "output_type": "execute_result"
    }
   ],
   "source": [
    "# Show keys for a single line\n",
    "list(lines[0])"
   ]
  }
 ],
 "metadata": {
  "kernelspec": {
   "display_name": "Python 3",
   "language": "python",
   "name": "python3"
  },
  "language_info": {
   "codemirror_mode": {
    "name": "ipython",
    "version": 3
   },
   "file_extension": ".py",
   "mimetype": "text/x-python",
   "name": "python",
   "nbconvert_exporter": "python",
   "pygments_lexer": "ipython3",
   "version": "3.9.2"
  }
 },
 "nbformat": 4,
 "nbformat_minor": 5
}
