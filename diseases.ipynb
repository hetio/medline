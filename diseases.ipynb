{
 "cells": [
  {
   "cell_type": "code",
   "execution_count": 16,
   "metadata": {
    "collapsed": true
   },
   "outputs": [],
   "source": [
    "import io\n",
    "import gzip\n",
    "\n",
    "import pandas\n",
    "import requests\n",
    "import networkx\n",
    "\n",
    "import eutility\n",
    "import cooccurrence"
   ]
  },
  {
   "cell_type": "code",
   "execution_count": 18,
   "metadata": {
    "collapsed": false
   },
   "outputs": [
    {
     "data": {
      "text/html": [
       "<div>\n",
       "<table border=\"1\" class=\"dataframe\">\n",
       "  <thead>\n",
       "    <tr style=\"text-align: right;\">\n",
       "      <th></th>\n",
       "      <th>doid_code</th>\n",
       "      <th>doid_name</th>\n",
       "      <th>mesh_id</th>\n",
       "      <th>mesh_name</th>\n",
       "    </tr>\n",
       "  </thead>\n",
       "  <tbody>\n",
       "    <tr>\n",
       "      <th>0</th>\n",
       "      <td>DOID:2531</td>\n",
       "      <td>hematologic cancer</td>\n",
       "      <td>D019337</td>\n",
       "      <td>Hematologic Neoplasms</td>\n",
       "    </tr>\n",
       "    <tr>\n",
       "      <th>1</th>\n",
       "      <td>DOID:1319</td>\n",
       "      <td>brain cancer</td>\n",
       "      <td>D001932</td>\n",
       "      <td>Brain Neoplasms</td>\n",
       "    </tr>\n",
       "    <tr>\n",
       "      <th>2</th>\n",
       "      <td>DOID:1324</td>\n",
       "      <td>lung cancer</td>\n",
       "      <td>D008175</td>\n",
       "      <td>Lung Neoplasms</td>\n",
       "    </tr>\n",
       "    <tr>\n",
       "      <th>3</th>\n",
       "      <td>DOID:263</td>\n",
       "      <td>kidney cancer</td>\n",
       "      <td>D007680</td>\n",
       "      <td>Kidney Neoplasms</td>\n",
       "    </tr>\n",
       "    <tr>\n",
       "      <th>4</th>\n",
       "      <td>DOID:1793</td>\n",
       "      <td>pancreatic cancer</td>\n",
       "      <td>D010190</td>\n",
       "      <td>Pancreatic Neoplasms</td>\n",
       "    </tr>\n",
       "  </tbody>\n",
       "</table>\n",
       "</div>"
      ],
      "text/plain": [
       "   doid_code           doid_name  mesh_id              mesh_name\n",
       "0  DOID:2531  hematologic cancer  D019337  Hematologic Neoplasms\n",
       "1  DOID:1319        brain cancer  D001932        Brain Neoplasms\n",
       "2  DOID:1324         lung cancer  D008175         Lung Neoplasms\n",
       "3   DOID:263       kidney cancer  D007680       Kidney Neoplasms\n",
       "4  DOID:1793   pancreatic cancer  D010190   Pancreatic Neoplasms"
      ]
     },
     "execution_count": 18,
     "metadata": {},
     "output_type": "execute_result"
    }
   ],
   "source": [
    "# Read MeSH terms to MeSH names\n",
    "url = 'https://raw.githubusercontent.com/dhimmel/mesh/e561301360e6de2140dedeaa7c7e17ce4714eb7f/data/terms.tsv'\n",
    "mesh_df = pandas.read_table(url)\n",
    "\n",
    "# Read MeSH terms mapped to DO Slim terms\n",
    "disease_df = pandas.read_table('data/DO-slim-to-mesh.tsv')\n",
    "disease_df.head()"
   ]
  },
  {
   "cell_type": "markdown",
   "metadata": {},
   "source": [
    "## Query PubMed"
   ]
  },
  {
   "cell_type": "code",
   "execution_count": 19,
   "metadata": {
    "collapsed": false
   },
   "outputs": [
    {
     "name": "stdout",
     "output_type": "stream",
     "text": [
      "10263 articles for Hematologic Neoplasms\n",
      "122381 articles for Brain Neoplasms\n",
      "180289 articles for Lung Neoplasms\n",
      "60370 articles for Kidney Neoplasms\n",
      "57659 articles for Pancreatic Neoplasms\n",
      "99737 articles for Skin Neoplasms\n",
      "104309 articles for Bone Neoplasms\n",
      "27228 articles for Pharyngeal Neoplasms\n",
      "65838 articles for Ovarian Neoplasms\n",
      "225989 articles for Breast Neoplasms\n",
      "62947 articles for Glioma\n",
      "107228 articles for Uterine Neoplasms\n",
      "24402 articles for Adrenal Gland Neoplasms\n",
      "39874 articles for Esophageal Neoplasms\n",
      "14509 articles for Salivary Gland Neoplasms\n",
      "96847 articles for Prostatic Neoplasms\n",
      "77074 articles for Stomach Neoplasms\n",
      "45123 articles for Urinary Bladder Neoplasms\n",
      "18460 articles for Peripheral Nervous System Neoplasms\n",
      "40411 articles for Thyroid Neoplasms\n",
      "130560 articles for Liver Neoplasms\n",
      "60707 articles for Uterine Cervical Neoplasms\n",
      "4779 articles for Vaginal Neoplasms\n",
      "248941 articles for Head and Neck Neoplasms\n",
      "38905 articles for Rectal Neoplasms\n",
      "34018 articles for Eye Neoplasms\n",
      "68772 articles for Colonic Neoplasms\n",
      "24417 articles for Laryngeal Neoplasms\n",
      "282372 articles for Neoplasms, Germ Cell and Embryonal\n",
      "9709 articles for Thymus Neoplasms\n",
      "11709 articles for Myosarcoma\n",
      "5560 articles for Duodenal Neoplasms\n",
      "2614 articles for Ileal Neoplasms\n",
      "117598 articles for Sarcoma\n",
      "2352 articles for Appendiceal Neoplasms\n",
      "4604 articles for Penile Neoplasms\n",
      "4135 articles for Ureteral Neoplasms\n",
      "3248 articles for Tracheal Neoplasms\n",
      "7155 articles for Vulvar Neoplasms\n",
      "1935 articles for Jejunal Neoplasms\n",
      "12395 articles for Peritoneal Neoplasms\n",
      "2733 articles for Vascular Neoplasms\n",
      "11821 articles for Mesothelioma\n",
      "76166 articles for Melanoma\n",
      "2376 articles for Fallopian Tube Neoplasms\n",
      "22580 articles for Testicular Neoplasms\n",
      "7348 articles for Gallbladder Neoplasms\n",
      "20289 articles for Meningeal Neoplasms\n",
      "13985 articles for Bile Duct Neoplasms\n",
      "12264 articles for Mediastinal Neoplasms\n",
      "9406 articles for Spinal Cord Neoplasms\n",
      "7938 articles for Retroperitoneal Neoplasms\n",
      "31433 articles for Crohn Disease\n",
      "46105 articles for Multiple Sclerosis\n",
      "90630 articles for Diabetes Mellitus, Type 2\n",
      "28198 articles for Colitis, Ulcerative\n",
      "62712 articles for Diabetes Mellitus, Type 1\n",
      "95063 articles for Arthritis, Rheumatoid\n",
      "40630 articles for Coronary Artery Disease\n",
      "186351 articles for Coronary Disease\n",
      "364813 articles for Myocardial Ischemia\n",
      "148100 articles for Obesity\n",
      "16685 articles for Celiac Disease\n",
      "49841 articles for Lupus Erythematosus, Systemic\n",
      "26782 articles for Refractive Errors\n",
      "7055 articles for Liver Cirrhosis, Biliary\n",
      "4057 articles for Vitiligo\n",
      "16896 articles for Macular Degeneration\n",
      "20937 articles for Metabolic Syndrome X\n",
      "108046 articles for Asthma\n",
      "30791 articles for Psoriasis\n",
      "86937 articles for Schizophrenia\n",
      "22160 articles for Migraine Disorders\n",
      "69419 articles for Alzheimer Disease\n",
      "14566 articles for Graves Disease\n",
      "49158 articles for Parkinson Disease\n",
      "14858 articles for Dermatitis, Atopic\n",
      "32461 articles for Bipolar Disorder\n",
      "12130 articles for Spondylitis, Ankylosing\n",
      "10737 articles for Polycystic Ovary Syndrome\n",
      "214359 articles for Hypertension\n",
      "17014 articles for Scleroderma, Systemic\n",
      "7667 articles for Behcet Syndrome\n",
      "4800 articles for Osteitis Deformans\n",
      "20366 articles for Leprosy\n",
      "22340 articles for Intracranial Aneurysm\n",
      "43289 articles for Glaucoma\n",
      "13521 articles for Amyotrophic Lateral Sclerosis\n",
      "2733 articles for Restless Legs Syndrome\n",
      "4765 articles for Mucocutaneous Lymph Node Syndrome\n",
      "24437 articles for Atherosclerosis\n",
      "2503 articles for Alopecia Areata\n",
      "45876 articles for Osteoporosis\n",
      "28881 articles for Hypothyroidism\n",
      "4948 articles for Glomerulonephritis, IGA\n",
      "67379 articles for Alcoholism\n",
      "5761 articles for Creutzfeldt-Jakob Syndrome\n",
      "1198 articles for Azoospermia\n",
      "132376 articles for Epilepsy\n",
      "47451 articles for Hepatitis B\n",
      "38463 articles for Pulmonary Disease, Chronic Obstructive\n",
      "14344 articles for Aortic Aneurysm, Abdominal\n",
      "79473 articles for Kidney Failure, Chronic\n",
      "45452 articles for Osteoarthritis\n",
      "3938 articles for Arthritis, Psoriatic\n",
      "8327 articles for Tobacco Use Disorder\n",
      "2440 articles for Glomerulonephritis, Membranous\n",
      "7626 articles for Diabetes, Gestational\n",
      "52598 articles for Malaria\n",
      "16458 articles for Autistic Disorder\n",
      "13327 articles for Cardiomyopathy, Dilated\n",
      "919 articles for Arthritis, Gouty\n",
      "17600 articles for Leiomyoma\n",
      "3022 articles for Cholangitis, Sclerosing\n",
      "3058 articles for Narcolepsy\n",
      "1854 articles for Intervertebral Disc Degeneration\n",
      "12103 articles for Cleft Lip\n",
      "1429 articles for Idiopathic Pulmonary Fibrosis\n",
      "21068 articles for Attention Deficit Disorder with Hyperactivity\n",
      "3632 articles for Tourette Syndrome\n",
      "8871 articles for Aortic Aneurysm, Thoracic\n",
      "83315 articles for Depressive Disorder\n",
      "17849 articles for Rhinitis, Allergic\n",
      "44246 articles for Pancreatitis\n",
      "16120 articles for Nephrolithiasis\n",
      "24151 articles for Periodontitis\n",
      "6375 articles for Barrett Esophagus\n",
      "779 articles for Fuchs' Endothelial Dystrophy\n",
      "4764 articles for Otosclerosis\n",
      "2275 articles for Conduct Disorder\n",
      "4426 articles for Glomerulosclerosis, Focal Segmental\n",
      "37388 articles for Dental Caries\n",
      "138039 articles for Anemia\n",
      "6070 articles for Panic Disorder\n",
      "72870 articles for Acquired Immunodeficiency Syndrome\n"
     ]
    }
   ],
   "source": [
    "rows_out = list()\n",
    "\n",
    "for i, row in disease_df.iterrows():\n",
    "    term_query = '{disease}[MeSH Terms]'.format(disease = row.mesh_name.lower())\n",
    "    payload = {'db': 'pubmed', 'term': term_query}\n",
    "    pmids = eutility.esearch_query(payload, retmax = 10000)\n",
    "    row['term_query'] = term_query\n",
    "    row['n_articles'] = len(pmids)\n",
    "    row['pubmed_ids'] = '|'.join(pmids)\n",
    "    rows_out.append(row)\n",
    "    print('{} articles for {}'.format(len(pmids), row.mesh_name))\n",
    "\n",
    "disease_pmids_df = pandas.DataFrame(rows_out)"
   ]
  },
  {
   "cell_type": "code",
   "execution_count": 20,
   "metadata": {
    "collapsed": true
   },
   "outputs": [],
   "source": [
    "with gzip.open('data/disease-pmids-topic.tsv.gz', 'wt') as write_file:\n",
    "    disease_pmids_df.to_csv(write_file, sep='\\t', index=False)"
   ]
  },
  {
   "cell_type": "markdown",
   "metadata": {},
   "source": [
    "## Analyze data"
   ]
  },
  {
   "cell_type": "code",
   "execution_count": 21,
   "metadata": {
    "collapsed": true
   },
   "outputs": [],
   "source": [
    "disease_df, disease_to_pmids = cooccurrence.read_pmids_tsv('data/disease-pmids-topic.tsv.gz', key='doid_code')"
   ]
  },
  {
   "cell_type": "code",
   "execution_count": 22,
   "metadata": {
    "collapsed": false
   },
   "outputs": [
    {
     "name": "stdout",
     "output_type": "stream",
     "text": [
      "Total articles containing a doid_code_0: 4437902\n",
      "Total articles containing a doid_code_1: 4437902\n",
      "Total articles containing both a doid_code_0 and doid_code_1: 4437902\n",
      "\n",
      "After removing terms without any cooccurences:\n",
      "+ 133 doid_code_0s remain\n",
      "+ 133 doid_code_1s remain\n",
      "\n",
      "Cooccurrence scores calculated for 17689 doid_code_0 -- doid_code_1 pairs\n"
     ]
    }
   ],
   "source": [
    "cooc_df = cooccurrence.score_pmid_cooccurrence(disease_to_pmids, disease_to_pmids, 'doid_code_0', 'doid_code_1')"
   ]
  },
  {
   "cell_type": "code",
   "execution_count": 23,
   "metadata": {
    "collapsed": false
   },
   "outputs": [
    {
     "data": {
      "text/html": [
       "<div>\n",
       "<table border=\"1\" class=\"dataframe\">\n",
       "  <thead>\n",
       "    <tr style=\"text-align: right;\">\n",
       "      <th></th>\n",
       "      <th>doid_code</th>\n",
       "      <th>doid_name</th>\n",
       "      <th>mesh_id</th>\n",
       "      <th>mesh_name</th>\n",
       "      <th>term_query</th>\n",
       "      <th>n_articles</th>\n",
       "    </tr>\n",
       "  </thead>\n",
       "  <tbody>\n",
       "    <tr>\n",
       "      <th>0</th>\n",
       "      <td>DOID:2531</td>\n",
       "      <td>hematologic cancer</td>\n",
       "      <td>D019337</td>\n",
       "      <td>Hematologic Neoplasms</td>\n",
       "      <td>hematologic neoplasms[MeSH Terms]</td>\n",
       "      <td>10263</td>\n",
       "    </tr>\n",
       "    <tr>\n",
       "      <th>1</th>\n",
       "      <td>DOID:1319</td>\n",
       "      <td>brain cancer</td>\n",
       "      <td>D001932</td>\n",
       "      <td>Brain Neoplasms</td>\n",
       "      <td>brain neoplasms[MeSH Terms]</td>\n",
       "      <td>122381</td>\n",
       "    </tr>\n",
       "    <tr>\n",
       "      <th>2</th>\n",
       "      <td>DOID:1324</td>\n",
       "      <td>lung cancer</td>\n",
       "      <td>D008175</td>\n",
       "      <td>Lung Neoplasms</td>\n",
       "      <td>lung neoplasms[MeSH Terms]</td>\n",
       "      <td>180289</td>\n",
       "    </tr>\n",
       "    <tr>\n",
       "      <th>3</th>\n",
       "      <td>DOID:263</td>\n",
       "      <td>kidney cancer</td>\n",
       "      <td>D007680</td>\n",
       "      <td>Kidney Neoplasms</td>\n",
       "      <td>kidney neoplasms[MeSH Terms]</td>\n",
       "      <td>60370</td>\n",
       "    </tr>\n",
       "    <tr>\n",
       "      <th>4</th>\n",
       "      <td>DOID:1793</td>\n",
       "      <td>pancreatic cancer</td>\n",
       "      <td>D010190</td>\n",
       "      <td>Pancreatic Neoplasms</td>\n",
       "      <td>pancreatic neoplasms[MeSH Terms]</td>\n",
       "      <td>57659</td>\n",
       "    </tr>\n",
       "  </tbody>\n",
       "</table>\n",
       "</div>"
      ],
      "text/plain": [
       "   doid_code           doid_name  mesh_id              mesh_name  \\\n",
       "0  DOID:2531  hematologic cancer  D019337  Hematologic Neoplasms   \n",
       "1  DOID:1319        brain cancer  D001932        Brain Neoplasms   \n",
       "2  DOID:1324         lung cancer  D008175         Lung Neoplasms   \n",
       "3   DOID:263       kidney cancer  D007680       Kidney Neoplasms   \n",
       "4  DOID:1793   pancreatic cancer  D010190   Pancreatic Neoplasms   \n",
       "\n",
       "                          term_query  n_articles  \n",
       "0  hematologic neoplasms[MeSH Terms]       10263  \n",
       "1        brain neoplasms[MeSH Terms]      122381  \n",
       "2         lung neoplasms[MeSH Terms]      180289  \n",
       "3       kidney neoplasms[MeSH Terms]       60370  \n",
       "4   pancreatic neoplasms[MeSH Terms]       57659  "
      ]
     },
     "execution_count": 23,
     "metadata": {},
     "output_type": "execute_result"
    }
   ],
   "source": [
    "disease_df.head()"
   ]
  },
  {
   "cell_type": "code",
   "execution_count": 24,
   "metadata": {
    "collapsed": false
   },
   "outputs": [
    {
     "data": {
      "text/html": [
       "<div>\n",
       "<table border=\"1\" class=\"dataframe\">\n",
       "  <thead>\n",
       "    <tr style=\"text-align: right;\">\n",
       "      <th></th>\n",
       "      <th>doid_code_0</th>\n",
       "      <th>doid_code_1</th>\n",
       "      <th>cooccurrence</th>\n",
       "      <th>expected</th>\n",
       "      <th>enrichment</th>\n",
       "      <th>odds_ratio</th>\n",
       "      <th>p_fisher</th>\n",
       "    </tr>\n",
       "  </thead>\n",
       "  <tbody>\n",
       "    <tr>\n",
       "      <th>0</th>\n",
       "      <td>DOID:6364</td>\n",
       "      <td>DOID:6364</td>\n",
       "      <td>22160</td>\n",
       "      <td>110.652646</td>\n",
       "      <td>200.266336</td>\n",
       "      <td>inf</td>\n",
       "      <td>0</td>\n",
       "    </tr>\n",
       "    <tr>\n",
       "      <th>1</th>\n",
       "      <td>DOID:6364</td>\n",
       "      <td>DOID:332</td>\n",
       "      <td>7</td>\n",
       "      <td>67.515092</td>\n",
       "      <td>0.103681</td>\n",
       "      <td>0.102933</td>\n",
       "      <td>1</td>\n",
       "    </tr>\n",
       "    <tr>\n",
       "      <th>2</th>\n",
       "      <td>DOID:6364</td>\n",
       "      <td>DOID:5612</td>\n",
       "      <td>3</td>\n",
       "      <td>46.967454</td>\n",
       "      <td>0.063874</td>\n",
       "      <td>0.063449</td>\n",
       "      <td>1</td>\n",
       "    </tr>\n",
       "    <tr>\n",
       "      <th>3</th>\n",
       "      <td>DOID:6364</td>\n",
       "      <td>DOID:824</td>\n",
       "      <td>1</td>\n",
       "      <td>120.594407</td>\n",
       "      <td>0.008292</td>\n",
       "      <td>0.008206</td>\n",
       "      <td>1</td>\n",
       "    </tr>\n",
       "    <tr>\n",
       "      <th>4</th>\n",
       "      <td>DOID:6364</td>\n",
       "      <td>DOID:9970</td>\n",
       "      <td>122</td>\n",
       "      <td>739.515203</td>\n",
       "      <td>0.164973</td>\n",
       "      <td>0.159658</td>\n",
       "      <td>1</td>\n",
       "    </tr>\n",
       "  </tbody>\n",
       "</table>\n",
       "</div>"
      ],
      "text/plain": [
       "  doid_code_0 doid_code_1  cooccurrence    expected  enrichment  odds_ratio  \\\n",
       "0   DOID:6364   DOID:6364         22160  110.652646  200.266336         inf   \n",
       "1   DOID:6364    DOID:332             7   67.515092    0.103681    0.102933   \n",
       "2   DOID:6364   DOID:5612             3   46.967454    0.063874    0.063449   \n",
       "3   DOID:6364    DOID:824             1  120.594407    0.008292    0.008206   \n",
       "4   DOID:6364   DOID:9970           122  739.515203    0.164973    0.159658   \n",
       "\n",
       "   p_fisher  \n",
       "0         0  \n",
       "1         1  \n",
       "2         1  \n",
       "3         1  \n",
       "4         1  "
      ]
     },
     "execution_count": 24,
     "metadata": {},
     "output_type": "execute_result"
    }
   ],
   "source": [
    "cooc_df.head()"
   ]
  },
  {
   "cell_type": "code",
   "execution_count": 25,
   "metadata": {
    "collapsed": false
   },
   "outputs": [],
   "source": [
    "cooc_df = cooc_df[cooc_df['doid_code_0'] != cooc_df['doid_code_1']]\n",
    "doid_name_df = disease_df[['doid_code', 'doid_name']].drop_duplicates()\n",
    "cooc_df = doid_name_df.rename(columns={'doid_code': 'doid_code_1', 'doid_name': 'doid_name_1'}).merge(cooc_df)\n",
    "cooc_df = doid_name_df.rename(columns={'doid_code': 'doid_code_0', 'doid_name': 'doid_name_0'}).merge(cooc_df)\n",
    "cooc_df = cooc_df.sort(['doid_name_0', 'p_fisher'])"
   ]
  },
  {
   "cell_type": "code",
   "execution_count": 26,
   "metadata": {
    "collapsed": false
   },
   "outputs": [
    {
     "data": {
      "text/html": [
       "<div>\n",
       "<table border=\"1\" class=\"dataframe\">\n",
       "  <thead>\n",
       "    <tr style=\"text-align: right;\">\n",
       "      <th></th>\n",
       "      <th>doid_code_0</th>\n",
       "      <th>doid_name_0</th>\n",
       "      <th>doid_code_1</th>\n",
       "      <th>doid_name_1</th>\n",
       "      <th>cooccurrence</th>\n",
       "      <th>expected</th>\n",
       "      <th>enrichment</th>\n",
       "      <th>odds_ratio</th>\n",
       "      <th>p_fisher</th>\n",
       "    </tr>\n",
       "  </thead>\n",
       "  <tbody>\n",
       "    <tr>\n",
       "      <th>9444</th>\n",
       "      <td>DOID:10652</td>\n",
       "      <td>Alzheimer's disease</td>\n",
       "      <td>DOID:14330</td>\n",
       "      <td>Parkinson's disease</td>\n",
       "      <td>2747</td>\n",
       "      <td>768.944245</td>\n",
       "      <td>3.572431</td>\n",
       "      <td>3.836951</td>\n",
       "      <td>0.000000e+00</td>\n",
       "    </tr>\n",
       "    <tr>\n",
       "      <th>9465</th>\n",
       "      <td>DOID:10652</td>\n",
       "      <td>Alzheimer's disease</td>\n",
       "      <td>DOID:11949</td>\n",
       "      <td>Creutzfeldt-Jakob disease</td>\n",
       "      <td>330</td>\n",
       "      <td>90.115297</td>\n",
       "      <td>3.661975</td>\n",
       "      <td>3.837210</td>\n",
       "      <td>1.666666e-86</td>\n",
       "    </tr>\n",
       "    <tr>\n",
       "      <th>9456</th>\n",
       "      <td>DOID:10652</td>\n",
       "      <td>Alzheimer's disease</td>\n",
       "      <td>DOID:332</td>\n",
       "      <td>amyotrophic lateral sclerosis</td>\n",
       "      <td>447</td>\n",
       "      <td>211.499555</td>\n",
       "      <td>2.113480</td>\n",
       "      <td>2.159013</td>\n",
       "      <td>2.938743e-46</td>\n",
       "    </tr>\n",
       "    <tr>\n",
       "      <th>9490</th>\n",
       "      <td>DOID:10652</td>\n",
       "      <td>Alzheimer's disease</td>\n",
       "      <td>DOID:1595</td>\n",
       "      <td>endogenous depression</td>\n",
       "      <td>1221</td>\n",
       "      <td>1303.238329</td>\n",
       "      <td>0.936897</td>\n",
       "      <td>0.934812</td>\n",
       "      <td>9.906655e-01</td>\n",
       "    </tr>\n",
       "    <tr>\n",
       "      <th>9496</th>\n",
       "      <td>DOID:10652</td>\n",
       "      <td>Alzheimer's disease</td>\n",
       "      <td>DOID:11555</td>\n",
       "      <td>Fuchs' endothelial dystrophy</td>\n",
       "      <td>1</td>\n",
       "      <td>12.185353</td>\n",
       "      <td>0.082066</td>\n",
       "      <td>0.080873</td>\n",
       "      <td>9.999954e-01</td>\n",
       "    </tr>\n",
       "  </tbody>\n",
       "</table>\n",
       "</div>"
      ],
      "text/plain": [
       "     doid_code_0          doid_name_0 doid_code_1  \\\n",
       "9444  DOID:10652  Alzheimer's disease  DOID:14330   \n",
       "9465  DOID:10652  Alzheimer's disease  DOID:11949   \n",
       "9456  DOID:10652  Alzheimer's disease    DOID:332   \n",
       "9490  DOID:10652  Alzheimer's disease   DOID:1595   \n",
       "9496  DOID:10652  Alzheimer's disease  DOID:11555   \n",
       "\n",
       "                        doid_name_1  cooccurrence     expected  enrichment  \\\n",
       "9444            Parkinson's disease          2747   768.944245    3.572431   \n",
       "9465      Creutzfeldt-Jakob disease           330    90.115297    3.661975   \n",
       "9456  amyotrophic lateral sclerosis           447   211.499555    2.113480   \n",
       "9490          endogenous depression          1221  1303.238329    0.936897   \n",
       "9496   Fuchs' endothelial dystrophy             1    12.185353    0.082066   \n",
       "\n",
       "      odds_ratio      p_fisher  \n",
       "9444    3.836951  0.000000e+00  \n",
       "9465    3.837210  1.666666e-86  \n",
       "9456    2.159013  2.938743e-46  \n",
       "9490    0.934812  9.906655e-01  \n",
       "9496    0.080873  9.999954e-01  "
      ]
     },
     "execution_count": 26,
     "metadata": {},
     "output_type": "execute_result"
    }
   ],
   "source": [
    "cooc_df.head()"
   ]
  },
  {
   "cell_type": "code",
   "execution_count": 27,
   "metadata": {
    "collapsed": false
   },
   "outputs": [
    {
     "data": {
      "text/plain": [
       "17556"
      ]
     },
     "execution_count": 27,
     "metadata": {},
     "output_type": "execute_result"
    }
   ],
   "source": [
    "len(cooc_df)"
   ]
  },
  {
   "cell_type": "code",
   "execution_count": 30,
   "metadata": {
    "collapsed": false
   },
   "outputs": [
    {
     "data": {
      "text/plain": [
       "1160"
      ]
     },
     "execution_count": 30,
     "metadata": {},
     "output_type": "execute_result"
    }
   ],
   "source": [
    "len(cooc_df[cooc_df.p_fisher <= 0.005])"
   ]
  },
  {
   "cell_type": "code",
   "execution_count": 31,
   "metadata": {
    "collapsed": true
   },
   "outputs": [],
   "source": [
    "cooc_df.to_csv('data/disease-disease-cooccurrence.tsv', index=False, sep='\\t')"
   ]
  }
 ],
 "metadata": {
  "kernelspec": {
   "display_name": "Python 3",
   "language": "python",
   "name": "python3"
  },
  "language_info": {
   "codemirror_mode": {
    "name": "ipython",
    "version": 3
   },
   "file_extension": ".py",
   "mimetype": "text/x-python",
   "name": "python",
   "nbconvert_exporter": "python",
   "pygments_lexer": "ipython3",
   "version": "3.4.3"
  }
 },
 "nbformat": 4,
 "nbformat_minor": 0
}
